{
 "cells": [
  {
   "cell_type": "code",
   "execution_count": 1,
   "metadata": {},
   "outputs": [],
   "source": [
    "def binary_search(sorted_list, search_value):\n",
    "    lower_bound = 0\n",
    "    upper_bound = len(sorted_list) - 1\n",
    "\n",
    "    while lower_bound <= upper_bound:\n",
    "        midpoint = int((upper_bound + lower_bound) / 2)\n",
    "        value_at_midpoint = sorted_list[midpoint]\n",
    "\n",
    "        if search_value == value_at_midpoint:\n",
    "            return midpoint\n",
    "        elif search_value < midpoint:\n",
    "            upper_bound = midpoint - 1\n",
    "        else:\n",
    "            lower_bound = midpoint + 1\n",
    "    \n",
    "    return False"
   ]
  },
  {
   "cell_type": "code",
   "execution_count": 3,
   "metadata": {},
   "outputs": [
    {
     "data": {
      "text/plain": [
       "False"
      ]
     },
     "execution_count": 3,
     "metadata": {},
     "output_type": "execute_result"
    }
   ],
   "source": [
    "sorted_list = [3, 17, 75, 80, 202]\n",
    "binary_search(sorted_list, 22)"
   ]
  },
  {
   "cell_type": "code",
   "execution_count": null,
   "metadata": {},
   "outputs": [],
   "source": []
  }
 ],
 "metadata": {
  "kernelspec": {
   "display_name": ".venv",
   "language": "python",
   "name": "python3"
  },
  "language_info": {
   "codemirror_mode": {
    "name": "ipython",
    "version": 3
   },
   "file_extension": ".py",
   "mimetype": "text/x-python",
   "name": "python",
   "nbconvert_exporter": "python",
   "pygments_lexer": "ipython3",
   "version": "3.11.7"
  }
 },
 "nbformat": 4,
 "nbformat_minor": 2
}
