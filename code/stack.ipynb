{
 "cells": [
  {
   "cell_type": "code",
   "execution_count": 1,
   "metadata": {},
   "outputs": [],
   "source": [
    "class Stack:\n",
    "    def __init__(self):\n",
    "        self.stack = []\n",
    "\n",
    "    def is_empty(self):\n",
    "        # 스택이 비어 있는지 확인\n",
    "        return len(self.stack) == 0\n",
    "\n",
    "    def push(self, item):\n",
    "        # 스택에 항목 추가\n",
    "        self.stack.append(item)\n",
    "\n",
    "    def pop(self):\n",
    "        # 스택에서 항목 제거 및 반환\n",
    "        if not self.is_empty():\n",
    "            return self.stack.pop()\n",
    "        else:\n",
    "            return None  # 스택이 비어있으면 None 반환\n",
    "\n",
    "    def peek(self):\n",
    "        # 스택의 마지막 항목 반환 (제거하지 않음)\n",
    "        if not self.is_empty():\n",
    "            return self.stack[-1]\n",
    "        else:\n",
    "            return None  # 스택이 비어있으면 None 반환\n",
    "\n",
    "    def size(self):\n",
    "        # 스택의 크기 반환\n",
    "        return len(self.stack)\n"
   ]
  },
  {
   "cell_type": "code",
   "execution_count": 2,
   "metadata": {},
   "outputs": [
    {
     "name": "stdout",
     "output_type": "stream",
     "text": [
      "Top item: 3\n",
      "Stack size: 3\n",
      "Popped item: 3\n",
      "Top item: 2\n",
      "Stack size: 2\n"
     ]
    }
   ],
   "source": [
    "# 스택 사용 예시\n",
    "if __name__ == \"__main__\":\n",
    "    s = Stack()\n",
    "    s.push(1)\n",
    "    s.push(2)\n",
    "    s.push(3)\n",
    "    print(f\"Top item: {s.peek()}\")  # 3\n",
    "    print(f\"Stack size: {s.size()}\")  # 3\n",
    "\n",
    "    print(f\"Popped item: {s.pop()}\")  # 3\n",
    "    print(f\"Top item: {s.peek()}\")  # 2\n",
    "    print(f\"Stack size: {s.size()}\")  # 2"
   ]
  },
  {
   "cell_type": "code",
   "execution_count": null,
   "metadata": {},
   "outputs": [],
   "source": []
  }
 ],
 "metadata": {
  "kernelspec": {
   "display_name": ".venv",
   "language": "python",
   "name": "python3"
  },
  "language_info": {
   "codemirror_mode": {
    "name": "ipython",
    "version": 3
   },
   "file_extension": ".py",
   "mimetype": "text/x-python",
   "name": "python",
   "nbconvert_exporter": "python",
   "pygments_lexer": "ipython3",
   "version": "3.11.7"
  }
 },
 "nbformat": 4,
 "nbformat_minor": 2
}
