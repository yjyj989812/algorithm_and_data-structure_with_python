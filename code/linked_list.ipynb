{
 "cells": [
  {
   "cell_type": "code",
   "execution_count": 20,
   "metadata": {},
   "outputs": [],
   "source": [
    "# simple node code\n",
    "class Node:\n",
    "    def __init__(self, data=None) -> None:\n",
    "        self.data = data\n",
    "        self.next_node = None\n",
    "    \n",
    "    def init_data(self, data):\n",
    "        self.data = data"
   ]
  },
  {
   "cell_type": "code",
   "execution_count": 50,
   "metadata": {},
   "outputs": [],
   "source": [
    "# linked list node code\n",
    "class Linked_list:\n",
    "    def __init__(self) -> None:\n",
    "        self.first_node = None\n",
    "\n",
    "    def init(self, first_node):\n",
    "        self.first_node = first_node\n",
    "    \n",
    "    # linked-list Read\n",
    "    def read(self, index):\n",
    "        current_node = self.first_node\n",
    "        current_index = 0\n",
    "\n",
    "        while current_index < index:\n",
    "            current_node = current_node.next_node\n",
    "            current_index += 1\n",
    "\n",
    "            if not current_node:\n",
    "                return None\n",
    "\n",
    "        return current_node.data\n",
    "    \n",
    "    # linked-list Search\n",
    "    def index_of(self, value):\n",
    "        current_node = self.first_node\n",
    "        current_index = 0\n",
    "\n",
    "        while True:\n",
    "            if not current_node:\n",
    "                break\n",
    "            \n",
    "            if current_node.data == value:\n",
    "                return current_index\n",
    "\n",
    "            current_node = current_node.next_node\n",
    "            current_index += 1\n",
    "        \n",
    "        return None\n",
    "    \n",
    "    # linked-list insert\n",
    "    def insert_at_index(self, index, data):\n",
    "        new_node = Node(data)\n",
    "\n",
    "        if index == 0:\n",
    "            new_node.next_node = self.first_node\n",
    "            self.first_node = new_node\n",
    "            return True\n",
    "        \n",
    "        current_node = self.first_node\n",
    "        current_index = 0\n",
    "\n",
    "        while current_index < index - 1:\n",
    "            current_node = current_node.next_node\n",
    "            current_index += 1\n",
    "        \n",
    "        new_node.next_node = current_node.next_node\n",
    "        current_node.next_node = new_node\n",
    "        return True\n",
    "    \n",
    "    # linked-list delete\n",
    "    def delete_at_index(self, index):\n",
    "        if index == 0:\n",
    "            self.first_node = self.first_node.next_node\n",
    "            return True\n",
    "        \n",
    "        current_node = self.first_node\n",
    "        current_index = 0\n",
    "\n",
    "        while current_index < index - 1:\n",
    "            current_node = current_node.next_node\n",
    "            current_index += 1\n",
    "        \n",
    "        node_after_deleted_node = current_node.next_node.next_node\n",
    "        current_node.next_node = node_after_deleted_node\n",
    "        return True\n"
   ]
  },
  {
   "cell_type": "markdown",
   "metadata": {},
   "source": [
    "---------"
   ]
  },
  {
   "cell_type": "code",
   "execution_count": 51,
   "metadata": {},
   "outputs": [],
   "source": [
    "# create linked nodes sample\n",
    "node_1 = Node(\"once\")\n",
    "node_2 = Node(\"upon\")\n",
    "node_3 = Node(\"a\")\n",
    "node_4 = Node(\"time\")\n",
    "\n",
    "node_1.next_node = node_2\n",
    "node_2.next_node = node_3\n",
    "node_3.next_node = node_4"
   ]
  },
  {
   "cell_type": "code",
   "execution_count": 52,
   "metadata": {},
   "outputs": [],
   "source": [
    "# linked-list init sample\n",
    "ll = Linked_list()\n",
    "ll.init(node_1)"
   ]
  },
  {
   "cell_type": "code",
   "execution_count": 53,
   "metadata": {},
   "outputs": [
    {
     "data": {
      "text/plain": [
       "'time'"
      ]
     },
     "execution_count": 53,
     "metadata": {},
     "output_type": "execute_result"
    }
   ],
   "source": [
    "# linked-list read sample\n",
    "ll.read(3)"
   ]
  },
  {
   "cell_type": "code",
   "execution_count": 54,
   "metadata": {},
   "outputs": [
    {
     "data": {
      "text/plain": [
       "3"
      ]
     },
     "execution_count": 54,
     "metadata": {},
     "output_type": "execute_result"
    }
   ],
   "source": [
    "ll.index_of(\"time\")\n"
   ]
  },
  {
   "cell_type": "code",
   "execution_count": 55,
   "metadata": {},
   "outputs": [],
   "source": [
    "ll.index_of(\"abc\")"
   ]
  },
  {
   "cell_type": "code",
   "execution_count": 56,
   "metadata": {},
   "outputs": [
    {
     "data": {
      "text/plain": [
       "'!!'"
      ]
     },
     "execution_count": 56,
     "metadata": {},
     "output_type": "execute_result"
    }
   ],
   "source": [
    "ll.insert_at_index(4, \"!!\")\n",
    "ll.read(4)"
   ]
  },
  {
   "cell_type": "code",
   "execution_count": null,
   "metadata": {},
   "outputs": [
    {
     "data": {
      "text/plain": [
       "True"
      ]
     },
     "execution_count": 57,
     "metadata": {},
     "output_type": "execute_result"
    }
   ],
   "source": [
    "ll.delete_at_index(4)"
   ]
  },
  {
   "cell_type": "code",
   "execution_count": 58,
   "metadata": {},
   "outputs": [],
   "source": [
    "ll.read(4)"
   ]
  },
  {
   "cell_type": "code",
   "execution_count": null,
   "metadata": {},
   "outputs": [],
   "source": []
  }
 ],
 "metadata": {
  "kernelspec": {
   "display_name": ".venv",
   "language": "python",
   "name": "python3"
  },
  "language_info": {
   "codemirror_mode": {
    "name": "ipython",
    "version": 3
   },
   "file_extension": ".py",
   "mimetype": "text/x-python",
   "name": "python",
   "nbconvert_exporter": "python",
   "pygments_lexer": "ipython3",
   "version": "3.11.7"
  }
 },
 "nbformat": 4,
 "nbformat_minor": 2
}
