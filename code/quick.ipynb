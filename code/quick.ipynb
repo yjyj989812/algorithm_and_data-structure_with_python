{
 "cells": [
  {
   "cell_type": "code",
   "execution_count": 35,
   "metadata": {},
   "outputs": [],
   "source": [
    "class SortableArray:\n",
    "    def __init__(self):\n",
    "        self._list = []\n",
    "    \n",
    "    def init_list(self, input_list):\n",
    "        self._list = input_list\n",
    "    \n",
    "    def partition(self, left_pointer, right_pointer):\n",
    "        pivot_index = right_pointer\n",
    "        pivot = self._list[pivot_index]\n",
    "        right_pointer -= 1\n",
    "\n",
    "        while True:\n",
    "            while self._list[left_pointer] < pivot:\n",
    "                left_pointer += 1\n",
    "            \n",
    "            while self._list[right_pointer] > pivot:\n",
    "                right_pointer -= 1\n",
    "            \n",
    "            if left_pointer >= right_pointer:\n",
    "                break\n",
    "            else:\n",
    "                # Swap elements at left_pointer and right_pointer\n",
    "                self._list[left_pointer], self._list[right_pointer] = self._list[right_pointer], self._list[left_pointer]\n",
    "                left_pointer += 1\n",
    "\n",
    "        # Swap pivot into its correct position\n",
    "        self._list[left_pointer], self._list[pivot_index] = self._list[pivot_index], self._list[left_pointer]\n",
    "\n",
    "        return left_pointer\n",
    "    \n",
    "    def quicksort(self, left_index, right_index):\n",
    "        if right_index - left_index <= 0:\n",
    "            return \n",
    "        \n",
    "        pivot_index = self.partition(left_index, right_index)\n",
    "        self.quicksort(left_index, pivot_index - 1)\n",
    "        self.quicksort(pivot_index + 1, right_index)\n",
    "\n",
    "    def kth_lowest_quickselect(self, kth_lowest_value, left_index, right_index):\n",
    "        if right_index - left_index <= 0:\n",
    "            return self._list[left_index]\n",
    "\n",
    "        pivot_index = self.partition(left_index, right_index)\n",
    "\n",
    "        if kth_lowest_value < pivot_index:\n",
    "            return self.kth_lowest_quickselect(kth_lowest_value, left_index, pivot_index - 1)\n",
    "        elif kth_lowest_value > pivot_index:\n",
    "            return self.kth_lowest_quickselect(kth_lowest_value, pivot_index + 1, right_index)\n",
    "        else:\n",
    "            return self._list[pivot_index]\n",
    "\n",
    "    def return_list(self):\n",
    "        return self._list\n"
   ]
  },
  {
   "cell_type": "code",
   "execution_count": 36,
   "metadata": {},
   "outputs": [],
   "source": [
    "l = SortableArray()"
   ]
  },
  {
   "cell_type": "code",
   "execution_count": 37,
   "metadata": {},
   "outputs": [],
   "source": [
    "l.init_list([0, 5, 2, 1, 6, 3])"
   ]
  },
  {
   "cell_type": "code",
   "execution_count": 38,
   "metadata": {},
   "outputs": [
    {
     "data": {
      "text/plain": [
       "[0, 5, 2, 1, 6, 3]"
      ]
     },
     "execution_count": 38,
     "metadata": {},
     "output_type": "execute_result"
    }
   ],
   "source": [
    "l.return_list()"
   ]
  },
  {
   "cell_type": "code",
   "execution_count": 40,
   "metadata": {},
   "outputs": [
    {
     "data": {
      "text/plain": [
       "3"
      ]
     },
     "execution_count": 40,
     "metadata": {},
     "output_type": "execute_result"
    }
   ],
   "source": [
    "l.partition(0, 6-1)"
   ]
  },
  {
   "cell_type": "code",
   "execution_count": 41,
   "metadata": {},
   "outputs": [
    {
     "data": {
      "text/plain": [
       "[0, 1, 2, 3, 6, 5]"
      ]
     },
     "execution_count": 41,
     "metadata": {},
     "output_type": "execute_result"
    }
   ],
   "source": [
    "l.return_list()"
   ]
  },
  {
   "cell_type": "code",
   "execution_count": 42,
   "metadata": {},
   "outputs": [],
   "source": [
    "l.quicksort(0, 5)"
   ]
  },
  {
   "cell_type": "code",
   "execution_count": 43,
   "metadata": {},
   "outputs": [
    {
     "data": {
      "text/plain": [
       "[0, 1, 2, 3, 5, 6]"
      ]
     },
     "execution_count": 43,
     "metadata": {},
     "output_type": "execute_result"
    }
   ],
   "source": [
    "l.return_list()"
   ]
  },
  {
   "cell_type": "code",
   "execution_count": 44,
   "metadata": {},
   "outputs": [],
   "source": [
    "array = [0, 50, 20, 10, 60, 30]\n",
    "sortable_array = SortableArray()\n",
    "sortable_array.init_list(array)"
   ]
  },
  {
   "cell_type": "code",
   "execution_count": 46,
   "metadata": {},
   "outputs": [
    {
     "data": {
      "text/plain": [
       "10"
      ]
     },
     "execution_count": 46,
     "metadata": {},
     "output_type": "execute_result"
    }
   ],
   "source": [
    "sortable_array.kth_lowest_quickselect(1, 0, len(array)-1)"
   ]
  },
  {
   "cell_type": "code",
   "execution_count": 47,
   "metadata": {},
   "outputs": [
    {
     "data": {
      "text/plain": [
       "[0, 10, 20, 30, 60, 50]"
      ]
     },
     "execution_count": 47,
     "metadata": {},
     "output_type": "execute_result"
    }
   ],
   "source": [
    "sortable_array.return_list()"
   ]
  },
  {
   "cell_type": "code",
   "execution_count": null,
   "metadata": {},
   "outputs": [],
   "source": []
  }
 ],
 "metadata": {
  "kernelspec": {
   "display_name": ".venv",
   "language": "python",
   "name": "python3"
  },
  "language_info": {
   "codemirror_mode": {
    "name": "ipython",
    "version": 3
   },
   "file_extension": ".py",
   "mimetype": "text/x-python",
   "name": "python",
   "nbconvert_exporter": "python",
   "pygments_lexer": "ipython3",
   "version": "3.11.7"
  }
 },
 "nbformat": 4,
 "nbformat_minor": 2
}
