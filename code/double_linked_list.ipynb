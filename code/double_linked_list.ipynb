{
 "cells": [
  {
   "cell_type": "code",
   "execution_count": null,
   "metadata": {},
   "outputs": [],
   "source": [
    "# double-linked-list node code\n",
    "class Node:\n",
    "    def __init__(self, data=None) -> None:\n",
    "        self.data = data\n",
    "        self.next_node = None\n",
    "        self.previous_node = None\n",
    "    \n",
    "    def init_data(self, data):\n",
    "        self.data = data"
   ]
  },
  {
   "cell_type": "code",
   "execution_count": 5,
   "metadata": {},
   "outputs": [],
   "source": [
    "# double-linked-list code\n",
    "class Double_Linked_list:\n",
    "    def __init__(self) -> None:\n",
    "        self.first_node = None\n",
    "        self.last_node = None\n",
    "    \n",
    "    def init(self, first_node=None, last_node=None):\n",
    "        self.first_node = first_node\n",
    "        self.last_node = last_node\n",
    "    \n",
    "    # double-linked-list insert at end edge\n",
    "    def insert_at_end(self, value):\n",
    "        new_node = Node(value)\n",
    "\n",
    "        if not self.first_node:\n",
    "            self.first_node = new_node\n",
    "            self.last_node = new_node\n",
    "        else:\n",
    "            new_node.previous_node = self.last_node\n",
    "            self.last_node.next_node = new_node\n",
    "            self.last_node = new_node\n",
    "\n",
    "    def remove_from_front(self):\n",
    "        removed_node = self.first_node\n",
    "        self.first_node = self.first_node.next_node\n",
    "        return removed_node"
   ]
  },
  {
   "cell_type": "code",
   "execution_count": null,
   "metadata": {},
   "outputs": [],
   "source": [
    "# Queue form doube linked list\n",
    "class Queue:\n",
    "    def __init__(self) -> None:\n",
    "        data = None\n",
    "    \n",
    "    def init(self):\n",
    "        self.data = Double_Linked_list()\n",
    "\n",
    "    def enque(self, element):\n",
    "        self.data.insert_at_end(element)\n",
    "    \n",
    "    def deque(self):\n",
    "        removed_node = self.data.remove_from_front()\n",
    "        return removed_node\n",
    "\n",
    "    def read(self):\n",
    "        if not self.data.first_node:\n",
    "            return self.data.first_node.data\n",
    "        return None"
   ]
  },
  {
   "cell_type": "code",
   "execution_count": null,
   "metadata": {},
   "outputs": [],
   "source": []
  }
 ],
 "metadata": {
  "kernelspec": {
   "display_name": ".venv",
   "language": "python",
   "name": "python3"
  },
  "language_info": {
   "codemirror_mode": {
    "name": "ipython",
    "version": 3
   },
   "file_extension": ".py",
   "mimetype": "text/x-python",
   "name": "python",
   "nbconvert_exporter": "python",
   "pygments_lexer": "ipython3",
   "version": "3.11.7"
  }
 },
 "nbformat": 4,
 "nbformat_minor": 2
}
