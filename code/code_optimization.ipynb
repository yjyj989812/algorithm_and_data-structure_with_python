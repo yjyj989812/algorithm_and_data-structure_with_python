{
 "cells": [
  {
   "cell_type": "markdown",
   "metadata": {},
   "source": [
    "# 코드 최적화 기법\n",
    "\n",
    "## 코드 최적화 하는 방법\n",
    "### 1. 현재 빅 오 파악\n",
    "- 현재 작성한 코드의 빅 오를 파악하여 전제 조건(preequisite, preeq) 찾기\n",
    "\n",
    "### 2. 상상할 수 있는 최상의 빅 오 예상\n",
    "- 해결할 문제에 대한 최상의 빅 오(가능한 최상의 실행 시간) 생각하여 시작점으로 파악\n",
    "- 결코 불가능은 아니리라 여겨지는 가장 빠른 빅 오를 최상의 빅 오로 삼을 것\n",
    "### 3. 최상의 빅 오에 가깝게 코드 최적화\n",
    "- 최상의 빅 오에 가깝게 코드 최적화 수행\n",
    "- 예를들어 현재 코드의 빅 오가 O(N^2)고 최상의 빅 오가 O(1)라고 상상될 때, O(logN)이 될 수 있게끔 최대한 최적화\n",
    "- 비록 O(1)은 힘들겠지만, O(N)으로 올리기만 해도 상당한 성과임."
   ]
  },
  {
   "cell_type": "markdown",
   "metadata": {},
   "source": [
    "----------------"
   ]
  },
  {
   "cell_type": "markdown",
   "metadata": {},
   "source": [
    "## 최적화 방법들"
   ]
  },
  {
   "cell_type": "markdown",
   "metadata": {},
   "source": [
    "### case1: loop-up\n",
    "- Hash table 등 필요한 정보를 바로 접근할 수 있게 새로운 자료구조를 추가할 것"
   ]
  },
  {
   "cell_type": "code",
   "execution_count": 9,
   "metadata": {},
   "outputs": [],
   "source": [
    "authors = [\n",
    "    {\"author_id\": 1, \"name\": \"A\"},\n",
    "    {\"author_id\": 2, \"name\": \"B\"},\n",
    "    {\"author_id\": 3, \"name\": \"C\"},\n",
    "    {\"author_id\": 4, \"name\": \"D\"}    \n",
    "]\n",
    "\n",
    "books = [\n",
    "    {\"author_id\": 1, \"title\": \"AA\"},\n",
    "    {\"author_id\": 3, \"title\": \"CC\"},\n",
    "    {\"author_id\": 2, \"title\": \"BB\"},\n",
    "    {\"author_id\": 4, \"title\": \"DD\"},\n",
    "    {\"author_id\": 3, \"title\": \"CCC\"},\n",
    "    {\"author_id\": 2, \"title\": \"BBB\"},\n",
    "    {\"author_id\": 4, \"title\": \"DDD\"},\n",
    "    {\"author_id\": 1, \"title\": \"AAA\"},\n",
    "    {\"author_id\": 4, \"title\": \"DDDD\"},\n",
    "    {\"author_id\": 1, \"title\": \"AAAA\"},\n",
    "    {\"author_id\": 3, \"title\": \"CCCC\"},\n",
    "    {\"author_id\": 2, \"title\": \"BBBB\"}\n",
    "    \n",
    "]"
   ]
  },
  {
   "cell_type": "markdown",
   "metadata": {},
   "source": [
    "#### Example 1\n",
    "- authors, books list를 이용하여 아래와 같은 배열을 만들어야 됨\n",
    "\n",
    "```python\n",
    "books_with_authors = [\n",
    "    {\"title\": \"AA\", \"author\": \"A\"}\n",
    "]\n",
    "```"
   ]
  },
  {
   "cell_type": "code",
   "execution_count": 6,
   "metadata": {},
   "outputs": [],
   "source": [
    "# 기존 코드: 이중 반복문, O(N^2)\n",
    "\n",
    "def connect_books_with_authors(books, authors):\n",
    "    books_with_authors = []\n",
    "\n",
    "    for book in books:\n",
    "        for author in authors:\n",
    "            if book[\"author_id\"] == author[\"author_id\"]:\n",
    "                books_with_authors.append({\"title\": book[\"title\"], \"author\": author[\"name\"]})\n",
    "    \n",
    "    return books_with_authors"
   ]
  },
  {
   "cell_type": "code",
   "execution_count": null,
   "metadata": {},
   "outputs": [
    {
     "data": {
      "text/plain": [
       "[{'title': 'AA', 'author': 'A'},\n",
       " {'title': 'CC', 'author': 'C'},\n",
       " {'title': 'BB', 'author': 'B'},\n",
       " {'title': 'DD', 'author': 'D'},\n",
       " {'title': 'CCC', 'author': 'C'},\n",
       " {'title': 'BBB', 'author': 'B'},\n",
       " {'title': 'DDD', 'author': 'D'},\n",
       " {'title': 'AAA', 'author': 'A'},\n",
       " {'title': 'DDDD', 'author': 'D'},\n",
       " {'title': 'AAAA', 'author': 'A'},\n",
       " {'title': 'CCCC', 'author': 'C'},\n",
       " {'title': 'BBBB', 'author': 'B'}]"
      ]
     },
     "execution_count": 5,
     "metadata": {},
     "output_type": "execute_result"
    }
   ],
   "source": [
    "connect_books_with_authors(books, authors)"
   ]
  },
  {
   "cell_type": "code",
   "execution_count": 12,
   "metadata": {},
   "outputs": [],
   "source": [
    "# 개선 코드: hash table로 loop-up, O(N + M) = O(N)\n",
    "\n",
    "def connect_books_with_authors(books, authors):\n",
    "    loop_up_talbe = {}\n",
    "    books_with_authors = []\n",
    "\n",
    "    for author in authors:\n",
    "        loop_up_talbe[author[\"author_id\"]] = author[\"name\"]\n",
    "    \n",
    "    for book in books:\n",
    "        books_with_authors.append({\"title\": book[\"title\"], \n",
    "                                   \"author\": loop_up_talbe[book[\"author_id\"]]}\n",
    "                                  )\n",
    "\n",
    "    return books_with_authors"
   ]
  },
  {
   "cell_type": "code",
   "execution_count": 13,
   "metadata": {},
   "outputs": [
    {
     "data": {
      "text/plain": [
       "[{'title': 'AA', 'author': 'A'},\n",
       " {'title': 'CC', 'author': 'C'},\n",
       " {'title': 'BB', 'author': 'B'},\n",
       " {'title': 'DD', 'author': 'D'},\n",
       " {'title': 'CCC', 'author': 'C'},\n",
       " {'title': 'BBB', 'author': 'B'},\n",
       " {'title': 'DDD', 'author': 'D'},\n",
       " {'title': 'AAA', 'author': 'A'},\n",
       " {'title': 'DDDD', 'author': 'D'},\n",
       " {'title': 'AAAA', 'author': 'A'},\n",
       " {'title': 'CCCC', 'author': 'C'},\n",
       " {'title': 'BBBB', 'author': 'B'}]"
      ]
     },
     "execution_count": 13,
     "metadata": {},
     "output_type": "execute_result"
    }
   ],
   "source": [
    "connect_books_with_authors(books, authors)"
   ]
  },
  {
   "cell_type": "markdown",
   "metadata": {},
   "source": [
    "#### Example 2\n",
    "- 두 수의 합(two-sum) 문제\n",
    "- 숫자 배열을 입력받아 두 수를 합해 10이 되는 두 수가 배열에 있는지 True나 False 반환\n",
    "\n",
    "```\n",
    "[2, 0, 4, 1, 2, 9]\n",
    "True\n",
    "\n",
    "[2, 0, 4, 5, 3, 9]\n",
    "False\n",
    "```"
   ]
  },
  {
   "cell_type": "code",
   "execution_count": 14,
   "metadata": {},
   "outputs": [],
   "source": [
    "# 기존 코드: 이중 반복문, O(N^2)\n",
    "\n",
    "def two_sum(num_list):\n",
    "    for i in range(0, len(num_list)):\n",
    "        for j in range(0, len(num_list)):\n",
    "            if i != j and num_list[i] + num_list[j] == 10:\n",
    "                return True\n",
    "    \n",
    "    return False"
   ]
  },
  {
   "cell_type": "code",
   "execution_count": 15,
   "metadata": {},
   "outputs": [
    {
     "name": "stdout",
     "output_type": "stream",
     "text": [
      "True\n",
      "False\n"
     ]
    }
   ],
   "source": [
    "num1 = [2, 0, 4, 1, 2, 9]\n",
    "num2 = [2, 0, 4, 5, 3, 9]\n",
    "\n",
    "print(two_sum(num1))\n",
    "print(two_sum(num2))"
   ]
  },
  {
   "cell_type": "code",
   "execution_count": 19,
   "metadata": {},
   "outputs": [],
   "source": [
    "# 개선 코드: 해쉬 테이블로 loop-up, O(N)\n",
    "\n",
    "def two_sum(num_list):\n",
    "    hash_table = {}\n",
    "\n",
    "    for num in num_list:\n",
    "        if hash_table.get(10-num, False):\n",
    "            return True\n",
    "\n",
    "        hash_table[num] = True\n",
    "    \n",
    "    return False"
   ]
  },
  {
   "cell_type": "code",
   "execution_count": 18,
   "metadata": {},
   "outputs": [
    {
     "name": "stdout",
     "output_type": "stream",
     "text": [
      "True\n",
      "False\n"
     ]
    }
   ],
   "source": [
    "num1 = [2, 0, 4, 1, 2, 9]\n",
    "num2 = [2, 0, 4, 5, 3, 9]\n",
    "\n",
    "print(two_sum(num1))\n",
    "print(two_sum(num2))"
   ]
  },
  {
   "cell_type": "code",
   "execution_count": null,
   "metadata": {},
   "outputs": [],
   "source": []
  }
 ],
 "metadata": {
  "kernelspec": {
   "display_name": ".venv",
   "language": "python",
   "name": "python3"
  },
  "language_info": {
   "codemirror_mode": {
    "name": "ipython",
    "version": 3
   },
   "file_extension": ".py",
   "mimetype": "text/x-python",
   "name": "python",
   "nbconvert_exporter": "python",
   "pygments_lexer": "ipython3",
   "version": "3.11.7"
  }
 },
 "nbformat": 4,
 "nbformat_minor": 2
}
