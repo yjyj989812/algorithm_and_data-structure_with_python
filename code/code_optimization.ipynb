{
 "cells": [
  {
   "cell_type": "markdown",
   "metadata": {},
   "source": [
    "# 코드 최적화 기법\n",
    "\n",
    "## 코드 최적화 하는 방법\n",
    "### 1. 현재 빅 오 파악\n",
    "- 현재 작성한 코드의 빅 오를 파악하여 전제 조건(preequisite, preeq) 찾기\n",
    "\n",
    "### 2. 상상할 수 있는 최상의 빅 오 예상\n",
    "- 해결할 문제에 대한 최상의 빅 오(가능한 최상의 실행 시간) 생각하여 시작점으로 파악\n",
    "- 결코 불가능은 아니리라 여겨지는 가장 빠른 빅 오를 최상의 빅 오로 삼을 것\n",
    "### 3. 최상의 빅 오에 가깝게 코드 최적화\n",
    "- 최상의 빅 오에 가깝게 코드 최적화 수행\n",
    "- 예를들어 현재 코드의 빅 오가 O(N^2)고 최상의 빅 오가 O(1)라고 상상될 때, O(logN)이 될 수 있게끔 최대한 최적화\n",
    "- 비록 O(1)은 힘들겠지만, O(N)으로 올리기만 해도 상당한 성과임."
   ]
  },
  {
   "cell_type": "markdown",
   "metadata": {},
   "source": [
    "----------------"
   ]
  },
  {
   "cell_type": "markdown",
   "metadata": {},
   "source": [
    "## 최적화 방법들"
   ]
  },
  {
   "cell_type": "markdown",
   "metadata": {},
   "source": [
    "### case1: lock-up\n",
    "- Hash table 등 필요한 정보를 바로 접근할 수 있게 새로운 자료구조를 추가할 것"
   ]
  },
  {
   "cell_type": "code",
   "execution_count": 9,
   "metadata": {},
   "outputs": [],
   "source": [
    "authors = [\n",
    "    {\"author_id\": 1, \"name\": \"A\"},\n",
    "    {\"author_id\": 2, \"name\": \"B\"},\n",
    "    {\"author_id\": 3, \"name\": \"C\"},\n",
    "    {\"author_id\": 4, \"name\": \"D\"}    \n",
    "]\n",
    "\n",
    "books = [\n",
    "    {\"author_id\": 1, \"title\": \"AA\"},\n",
    "    {\"author_id\": 3, \"title\": \"CC\"},\n",
    "    {\"author_id\": 2, \"title\": \"BB\"},\n",
    "    {\"author_id\": 4, \"title\": \"DD\"},\n",
    "    {\"author_id\": 3, \"title\": \"CCC\"},\n",
    "    {\"author_id\": 2, \"title\": \"BBB\"},\n",
    "    {\"author_id\": 4, \"title\": \"DDD\"},\n",
    "    {\"author_id\": 1, \"title\": \"AAA\"},\n",
    "    {\"author_id\": 4, \"title\": \"DDDD\"},\n",
    "    {\"author_id\": 1, \"title\": \"AAAA\"},\n",
    "    {\"author_id\": 3, \"title\": \"CCCC\"},\n",
    "    {\"author_id\": 2, \"title\": \"BBBB\"}\n",
    "    \n",
    "]"
   ]
  },
  {
   "cell_type": "markdown",
   "metadata": {},
   "source": [
    "#### Example 1\n",
    "- authors, books list를 이용하여 아래와 같은 배열을 만들어야 됨\n",
    "\n",
    "```python\n",
    "books_with_authors = [\n",
    "    {\"title\": \"AA\", \"author\": \"A\"}\n",
    "]\n",
    "```"
   ]
  },
  {
   "cell_type": "code",
   "execution_count": 6,
   "metadata": {},
   "outputs": [],
   "source": [
    "# 기존 코드: 이중 반복문, O(N^2)\n",
    "\n",
    "def connect_books_with_authors(books, authors):\n",
    "    books_with_authors = []\n",
    "\n",
    "    for book in books:\n",
    "        for author in authors:\n",
    "            if book[\"author_id\"] == author[\"author_id\"]:\n",
    "                books_with_authors.append({\"title\": book[\"title\"], \"author\": author[\"name\"]})\n",
    "    \n",
    "    return books_with_authors"
   ]
  },
  {
   "cell_type": "code",
   "execution_count": null,
   "metadata": {},
   "outputs": [
    {
     "data": {
      "text/plain": [
       "[{'title': 'AA', 'author': 'A'},\n",
       " {'title': 'CC', 'author': 'C'},\n",
       " {'title': 'BB', 'author': 'B'},\n",
       " {'title': 'DD', 'author': 'D'},\n",
       " {'title': 'CCC', 'author': 'C'},\n",
       " {'title': 'BBB', 'author': 'B'},\n",
       " {'title': 'DDD', 'author': 'D'},\n",
       " {'title': 'AAA', 'author': 'A'},\n",
       " {'title': 'DDDD', 'author': 'D'},\n",
       " {'title': 'AAAA', 'author': 'A'},\n",
       " {'title': 'CCCC', 'author': 'C'},\n",
       " {'title': 'BBBB', 'author': 'B'}]"
      ]
     },
     "execution_count": 5,
     "metadata": {},
     "output_type": "execute_result"
    }
   ],
   "source": [
    "connect_books_with_authors(books, authors)"
   ]
  },
  {
   "cell_type": "code",
   "execution_count": null,
   "metadata": {},
   "outputs": [],
   "source": [
    "# 개선 코드: hash table로 lock-up, O(N + M) = O(N)\n",
    "\n",
    "def connect_books_with_authors(books, authors):\n",
    "    lock_up_talbe = {}\n",
    "    books_with_authors = []\n",
    "\n",
    "    for author in authors:\n",
    "        lock_up_talbe[author[\"author_id\"]] = author[\"name\"]\n",
    "    \n",
    "    for book in books:\n",
    "        books_with_authors.append({\"title\": book[\"title\"], \n",
    "                                   \"author\": lock_up_talbe[book[\"author_id\"]]}\n",
    "                                  )\n",
    "\n",
    "    return books_with_authors"
   ]
  },
  {
   "cell_type": "code",
   "execution_count": 13,
   "metadata": {},
   "outputs": [
    {
     "data": {
      "text/plain": [
       "[{'title': 'AA', 'author': 'A'},\n",
       " {'title': 'CC', 'author': 'C'},\n",
       " {'title': 'BB', 'author': 'B'},\n",
       " {'title': 'DD', 'author': 'D'},\n",
       " {'title': 'CCC', 'author': 'C'},\n",
       " {'title': 'BBB', 'author': 'B'},\n",
       " {'title': 'DDD', 'author': 'D'},\n",
       " {'title': 'AAA', 'author': 'A'},\n",
       " {'title': 'DDDD', 'author': 'D'},\n",
       " {'title': 'AAAA', 'author': 'A'},\n",
       " {'title': 'CCCC', 'author': 'C'},\n",
       " {'title': 'BBBB', 'author': 'B'}]"
      ]
     },
     "execution_count": 13,
     "metadata": {},
     "output_type": "execute_result"
    }
   ],
   "source": [
    "connect_books_with_authors(books, authors)"
   ]
  },
  {
   "cell_type": "markdown",
   "metadata": {},
   "source": [
    "#### Example 2\n",
    "- 두 수의 합(two-sum) 문제\n",
    "- 숫자 배열을 입력받아 두 수를 합해 10이 되는 두 수가 배열에 있는지 True나 False 반환\n",
    "\n",
    "```\n",
    "[2, 0, 4, 1, 2, 9]\n",
    "True\n",
    "\n",
    "[2, 0, 4, 5, 3, 9]\n",
    "False\n",
    "```"
   ]
  },
  {
   "cell_type": "code",
   "execution_count": 14,
   "metadata": {},
   "outputs": [],
   "source": [
    "# 기존 코드: 이중 반복문, O(N^2)\n",
    "\n",
    "def two_sum(num_list):\n",
    "    for i in range(0, len(num_list)):\n",
    "        for j in range(0, len(num_list)):\n",
    "            if i != j and num_list[i] + num_list[j] == 10:\n",
    "                return True\n",
    "    \n",
    "    return False"
   ]
  },
  {
   "cell_type": "code",
   "execution_count": 15,
   "metadata": {},
   "outputs": [
    {
     "name": "stdout",
     "output_type": "stream",
     "text": [
      "True\n",
      "False\n"
     ]
    }
   ],
   "source": [
    "num1 = [2, 0, 4, 1, 2, 9]\n",
    "num2 = [2, 0, 4, 5, 3, 9]\n",
    "\n",
    "print(two_sum(num1))\n",
    "print(two_sum(num2))"
   ]
  },
  {
   "cell_type": "code",
   "execution_count": null,
   "metadata": {},
   "outputs": [],
   "source": [
    "# 개선 코드: 해쉬 테이블로 lock-up, O(N)\n",
    "\n",
    "def two_sum(num_list):\n",
    "    hash_table = {}\n",
    "\n",
    "    for num in num_list:\n",
    "        if hash_table.get(10-num, False):\n",
    "            return True\n",
    "\n",
    "        hash_table[num] = True\n",
    "    \n",
    "    return False"
   ]
  },
  {
   "cell_type": "code",
   "execution_count": 18,
   "metadata": {},
   "outputs": [
    {
     "name": "stdout",
     "output_type": "stream",
     "text": [
      "True\n",
      "False\n"
     ]
    }
   ],
   "source": [
    "num1 = [2, 0, 4, 1, 2, 9]\n",
    "num2 = [2, 0, 4, 5, 3, 9]\n",
    "\n",
    "print(two_sum(num1))\n",
    "print(two_sum(num2))"
   ]
  },
  {
   "cell_type": "markdown",
   "metadata": {},
   "source": [
    "### case 2: 패턴 인식\n",
    "- 단순히 재귀나 반복문 등 알고리즘 접근법이 아닌 해당 문제의 여러 예제를 기반으로 패턴을 찾아 공략하는 방법"
   ]
  },
  {
   "cell_type": "markdown",
   "metadata": {},
   "source": [
    "#### Example 1\n",
    "- 동전 게임(coin game)\n",
    "- 두 플레이어가 동전 더미를 차례대로 가져가는 게임으로 아래 규칙을 적용한다.\n",
    "  + 플레이어 `H`와 `T` 두 명이며, 항상 `H`가 먼저 동전을 가져간다.\n",
    "  + 한 차례에 동전 1개 또는 2개를 가져갈 수 있다.\n",
    "  + 마지막에 동전을 가져가 동전 더미를 없애는 사람이 패배한다."
   ]
  },
  {
   "cell_type": "code",
   "execution_count": null,
   "metadata": {},
   "outputs": [],
   "source": [
    "# 기존 코드: 재귀로 접근, O(2^n)\n",
    "# 해당 재귀 접근법을 동적 프로그래밍으로 O(N)까지 개선 가능함\n",
    "\n",
    "def coin_game_winner(number_of_coiins, current_player=\"H\"):\n",
    "    if number_of_coiins <= 0:\n",
    "        return current_player\n",
    "\n",
    "    if current_player == \"H\":\n",
    "        next_player = \"T\"\n",
    "    elif current_player == \"T\":\n",
    "        next_player = \"H\"\n",
    "    \n",
    "    if coin_game_winner(number_of_coiins - 1, next_player) == current_player or coin_game_winner(number_of_coiins - 2, next_player) == current_player:\n",
    "        return current_player\n",
    "    else:\n",
    "        return next_player"
   ]
  },
  {
   "cell_type": "code",
   "execution_count": 10,
   "metadata": {},
   "outputs": [
    {
     "name": "stdout",
     "output_type": "stream",
     "text": [
      "T\n"
     ]
    }
   ],
   "source": [
    "print(coin_game_winner(10, \"H\"))"
   ]
  },
  {
   "cell_type": "markdown",
   "metadata": {},
   "source": [
    "##### 패턴 인식 접근법\n",
    "- 동전 게임의 여러 예제를 생성하여 패턴을 찾는다.\n",
    "\n",
    "| 동전 개수 | 승자 |\n",
    "|:--------:|:----:|\n",
    "| 1 | T |\n",
    "| 2 | H |\n",
    "| 3 | H |\n",
    "| 4 | T |\n",
    "| 5 | H |\n",
    "| 6 | H |\n",
    "| 7 | T |\n",
    "| 8 | H |\n",
    "| 9 | H |\n",
    "| 10 | T |\n",
    "\n",
    "- T가 우승한 경우는 동전 개수가 1, 4, 7, 10으로 각각 3의 배수(3x + 1, x=0, 1, 2, ...)에 1을 더한 값이다.\n",
    "- 따라서 `동전 개수-1`의 값이 3의 배수이면 T가 우승하고 아니면 H가 우승한다"
   ]
  },
  {
   "cell_type": "code",
   "execution_count": null,
   "metadata": {},
   "outputs": [],
   "source": [
    "# 개선 코드, O(1)\n",
    "\n",
    "def coin_game_winner(number_of_coiins):\n",
    "    if (number_of_coiins - 1) % 3 == 0:\n",
    "        return \"T\"\n",
    "    else:\n",
    "        return \"H\""
   ]
  },
  {
   "cell_type": "code",
   "execution_count": 14,
   "metadata": {},
   "outputs": [
    {
     "name": "stdout",
     "output_type": "stream",
     "text": [
      "T\n"
     ]
    }
   ],
   "source": [
    "print(coin_game_winner(10))"
   ]
  },
  {
   "cell_type": "markdown",
   "metadata": {},
   "source": [
    "#### Example 2\n",
    "- 합 교환(sum swap) 문제\n",
    "- 자연수를 인자로 가지는 두 배열에서 서로 교환했을 때 두 배열의 합이 똑같아지는 숫자를 각 별에서 하나씩 찾아야하며, 아래 규칙을 따른다.\n",
    "  + 배열 내에 중복되는 숫자는 없다.\n",
    "  + 해당되는 숫자가 있을 경우, ['index of target number in array 1', 'index of target number in array 2'] 이다\n",
    "  + 해당되는 숫자가 없을 경우, None을 반환한다.\n",
    "\n",
    "\n",
    "```python\n",
    "array_1 = [5, 3, 2, 9, 1] # 합 20\n",
    "array_2 = [1, 12, 5] # 합 18\n",
    "\n",
    "# array_1의 숫자 2와 array_2의 숫자 1을 교환\n",
    "array_1 = [5, 3, 1, 9, 1] # index 2, 합 19\n",
    "array_2 = [2, 12, 5] # index 0, 합 19\n",
    "\n",
    "# [2, 0]\n",
    "```"
   ]
  },
  {
   "cell_type": "markdown",
   "metadata": {},
   "source": [
    "#### 패턴 인식 접근법\n",
    "- 두 배열 사이에 숫자를 교환하여 합을 맞출 경우 교환하기 이전의 두 배열의 합 사이의 중간에 정확히 떨어진다."
   ]
  },
  {
   "cell_type": "code",
   "execution_count": null,
   "metadata": {},
   "outputs": [],
   "source": [
    "# 개선 코드, O(N+M); 만약 이중 반복문으로 접근했을 경우 O(N*M)\n",
    "\n",
    "def sum_swap(array_1, array_2):\n",
    "    sum_1 = sum(array_1)\n",
    "    sum_2 =sum(array_2)\n",
    "    diff_value = (sum_1 - sum_2) / 2\n",
    "\n",
    "    table_1 = {n: i for i, n in enumerate(array_1)}\n",
    "\n",
    "    for i, n in enumerate(array_2):\n",
    "        if table_1.get(n+diff_value, None):\n",
    "            return [table_1.get(n+diff_value), i]\n",
    "    else:\n",
    "        return None"
   ]
  },
  {
   "cell_type": "code",
   "execution_count": 22,
   "metadata": {},
   "outputs": [
    {
     "data": {
      "text/plain": [
       "[2, 0]"
      ]
     },
     "execution_count": 22,
     "metadata": {},
     "output_type": "execute_result"
    }
   ],
   "source": [
    "array_1 = [5, 3, 2, 9, 1] # 합 20\n",
    "array_2 = [1, 12, 5] # 합 18\n",
    "\n",
    "sum_swap(array_1, array_2)"
   ]
  },
  {
   "cell_type": "code",
   "execution_count": null,
   "metadata": {},
   "outputs": [],
   "source": [
    "array_1 = [6, 3, 2, 9, 1] # 합 21\n",
    "array_2 = [1, 12, 5] # 합 18\n",
    "\n",
    "sum_swap(array_1, array_2)"
   ]
  },
  {
   "cell_type": "markdown",
   "metadata": {},
   "source": [
    "### case 3: 탐욕 알고리즘(Greedy algorithm)\n",
    "- `매 단계마다 그 순간에` 최선처럼 보이는 방법이나 값을 고른다."
   ]
  },
  {
   "cell_type": "markdown",
   "metadata": {},
   "source": [
    "#### Example 1\n",
    "- 배열 내 최댓값 찾기"
   ]
  },
  {
   "cell_type": "code",
   "execution_count": 25,
   "metadata": {},
   "outputs": [],
   "source": [
    "def max(array):\n",
    "    greatest_num = array[0]\n",
    "\n",
    "    for num in array:\n",
    "        if greatest_num < num:\n",
    "            greatest_num = num\n",
    "    \n",
    "    return greatest_num"
   ]
  },
  {
   "cell_type": "code",
   "execution_count": 26,
   "metadata": {},
   "outputs": [
    {
     "data": {
      "text/plain": [
       "9"
      ]
     },
     "execution_count": 26,
     "metadata": {},
     "output_type": "execute_result"
    }
   ],
   "source": [
    "array = [6, 3, 2, 9, 1]\n",
    "max(array)"
   ]
  },
  {
   "cell_type": "markdown",
   "metadata": {},
   "source": [
    "#### Example 2\n",
    "- 최대 부분 합\n",
    "- 숫자로 된 배열을 받아 배열 내 숫자로 구성할 수 있는 배열 들 중 가장 큰 합을 반환해야 해며, 아래 규칙을 따른다.\n",
    "  + 주어진 배열 안엔 적어도 하나 이상의 양수가  포함된다.\n",
    "  + 주어진 배열로 구성되는 배열은 연속된 부분으로 이루어진 배열이어야한다.\n",
    "\n",
    "```python\n",
    "array = [3, -4, 4, -3, 5, -9]\n",
    "\n",
    "answer_array = [4, -3, 5] # index 2 ~ 4 까지\n",
    "answer = 6\n",
    "```"
   ]
  },
  {
   "cell_type": "markdown",
   "metadata": {},
   "source": [
    "#### 탐욕 알고리즘 접근법\n",
    "- 배열의 첫 번째 부터 시작하여 연속된 배열을 구하지만 아래 경우들을 고려해야한다\n",
    "  - 문제의 답은 항상 배열의 첫번째 부분으로 시작하진 않는다.\n",
    "    + [1, 1, 0, -3, 5] 의 답은 [5]\n",
    "    + [5, -2, 3, -8, 4] 의 답은 [5, -2, 3]\n",
    "    + [2, -3, 1, 2, -1] 의 답은 [1, 2, -1]\n",
    "    + [5, -8, 2, 1, 0] 의 답은 [5]\n",
    "  - 배열의 첫번째 부분에서 시작하지 경우는 중간에 `음수`가 방해한다.\n",
    "    + [2, -3, 1, 2, -1] 처럼 `-3`이 중간에 방해한다.\n",
    "  - 허나, 최대 부분이 음수를 포함하는데도 음수가 방해되지 않는 경우가 있다.\n",
    "    + [5, -2, 3, -8, 4] 경우, [5, -2, 3]에서 -2가 포함되였지만 최대합이다.\n",
    "- 위 경우들을 비교했을 때 차이 점은 최대합을 구성하는 과정에서 음수가 방해하는 경우는 `음수가 포함 되면서 배열합이 음수로 떨어질 때다`\n",
    "- 따라서 배열을 순회하다가 현재 부분의 합이 0보다 작아지면 `차라리 현재 합을 0으로 되돌리는 것이 낫다`"
   ]
  },
  {
   "cell_type": "code",
   "execution_count": null,
   "metadata": {},
   "outputs": [],
   "source": [
    "# 탐욕 알고리즘 접근 기반 코드, O(N)\n",
    "# 만약 모든 경우를 고려할 경우, O(N^2/2)\n",
    "\n",
    "def max_sum(array):\n",
    "    current_sum = 0\n",
    "    greatest_sum = 0\n",
    "\n",
    "    for num in array:\n",
    "        current_sum += num\n",
    "\n",
    "        if current_sum < 0:\n",
    "            current_sum = 0\n",
    "        elif current_sum > greatest_sum:\n",
    "            greatest_sum = current_sum\n",
    "    \n",
    "    return greatest_sum"
   ]
  },
  {
   "cell_type": "code",
   "execution_count": 28,
   "metadata": {},
   "outputs": [
    {
     "data": {
      "text/plain": [
       "6"
      ]
     },
     "execution_count": 28,
     "metadata": {},
     "output_type": "execute_result"
    }
   ],
   "source": [
    "array = [ 3, -4, 4, -3, 5, -9]\n",
    "\n",
    "max_sum(array)"
   ]
  },
  {
   "cell_type": "markdown",
   "metadata": {},
   "source": [
    "#### Example 3\n",
    "- 주가 상승세 예측\n",
    "- 주가 배열을 받아 상승세를 이루는 주가 3개 있는지 없는지 판별해라.\n",
    "  + 상승세 주가 3개가 있으면 True, 아니면 False를 반환해야한다\n",
    "\n",
    "```python\n",
    "array_1 = [22, 25, 21, 18, 19.6, 17, 16, 20.5] # 18, 19.6, 20.5 이렇게 3개가 있으므로 True\n",
    "array_2 = [50, 51.25, 48.4, 49, 47.2, 48, 46.9] # 이 경우엔 False\n",
    "```"
   ]
  },
  {
   "cell_type": "markdown",
   "metadata": {},
   "source": [
    "#### 탐욕 알고리즘 접근법\n",
    "- 위 True 경우의 [18, 19.6, 20.5] 3개 주가 처럼, 왼쪽에서 오른쪽으로 가면서 오른편 가격이 중간 가격보다 크고, 중간 가격이 다시 왼편 가격보다 큰 주가 3개가 있는 경우를 찾아야한다.\n",
    "- 따라서 알고리즘 단계는 다음과 같다.\n",
    "  - 현재 주가가 지금가지의 최저가보다 작으면 현재 주자가 새로운 처저가가 된다.\n",
    "  - 현재 주가가 최저가보다 크지만 중간 주가보다 작으면 중간 주가를 현재 주가로 업데이트한다.\n",
    "  - 현재 주가가 최저가와 중간 주가보다 크면 상승세를 이루는 주 3개를 찾았다고 볼 수 있다."
   ]
  },
  {
   "cell_type": "code",
   "execution_count": 29,
   "metadata": {},
   "outputs": [],
   "source": [
    "# 탐욕 알고리즘 접근 코드. O(N)\n",
    "\n",
    "def increasing_treplet(array):\n",
    "    lowest_price = array[0]\n",
    "    middle_price = float('inf')\n",
    "\n",
    "    for price in array:\n",
    "        if price <= lowest_price:\n",
    "            lowest_price = price\n",
    "        elif price <= middle_price:\n",
    "            middle_price = price\n",
    "        else: # 현재 주가가 중간 주가보다 크면\n",
    "            return True\n",
    "    else:\n",
    "        return False"
   ]
  },
  {
   "cell_type": "code",
   "execution_count": 30,
   "metadata": {},
   "outputs": [
    {
     "name": "stdout",
     "output_type": "stream",
     "text": [
      "True\n",
      "False\n"
     ]
    }
   ],
   "source": [
    "array_1 = [22, 25, 21, 18, 19.6, 17, 16, 20.5] # 18, 19.6, 20.5 이렇게 3개가 있으므로 True\n",
    "array_2 = [50, 51.25, 48.4, 49, 47.2, 48, 46.9] # 이 경우엔 False\n",
    "\n",
    "print(increasing_treplet(array_1))\n",
    "print(increasing_treplet(array_2))"
   ]
  },
  {
   "cell_type": "markdown",
   "metadata": {},
   "source": [
    "### case 4: 자료구조 변경\n",
    "- 주어진 값이나 입력을 다른 형태의 자료구조로 변환하여 접근하는것\n",
    "- 룩업 문제에서 해시 테이블을 도입한 것도 같은 방법이다."
   ]
  },
  {
   "cell_type": "markdown",
   "metadata": {},
   "source": [
    "#### Example 1\n",
    "- 애너그램 검사기\n",
    "- 두 문자열이 주어졌을 때 서로 애너그램(anagram)인지 알아내는 함수를 작성해라"
   ]
  },
  {
   "cell_type": "code",
   "execution_count": 31,
   "metadata": {},
   "outputs": [],
   "source": [
    "# 기존 코드, O(N * M)\n",
    "# 이렇게 직접적으로 값을 삭제하는 식으로 접근할 경우 오류가 발생하기 쉬움\n",
    "\n",
    "def are_anagrams(string_1, string_2):\n",
    "    array_string_2 = list(string_2)\n",
    "\n",
    "    for i in range(0, len(string_1)):\n",
    "        if len(array_string_2) == 0:\n",
    "            return False\n",
    "    \n",
    "        for j in range(0, len(array_string_2)):\n",
    "            if string_1[i] == array_string_2[j]:\n",
    "                del array_string_2[j]\n",
    "                break\n",
    "\n",
    "    return len(array_string_2) == 0"
   ]
  },
  {
   "cell_type": "code",
   "execution_count": 33,
   "metadata": {},
   "outputs": [],
   "source": [
    "# 자료구조 변경 기반 개선 코드, O(N + M)\n",
    "\n",
    "def are_anagrams(first_string, second_string):\n",
    "    first_word_hash_table = {}\n",
    "    second_word_hash_table = {}\n",
    "\n",
    "    for char in first_string:\n",
    "        if first_word_hash_table.get(char):\n",
    "            first_word_hash_table[char] += 1\n",
    "        else:\n",
    "            first_word_hash_table[char] = 1\n",
    "    \n",
    "    for char in second_string:\n",
    "        if second_word_hash_table.get(char):\n",
    "            second_word_hash_table[char] += 1\n",
    "        else:\n",
    "            second_word_hash_table[char] = 1\n",
    "\n",
    "    return first_word_hash_table == second_word_hash_table"
   ]
  },
  {
   "cell_type": "markdown",
   "metadata": {},
   "source": [
    "#### Example 2\n",
    "- 그룹 정렬\n",
    "- 값을 여러 개 포함하는 배열이 있을 때 같은 ㄱ밧끼리 묶어 테이터를 다시 정렬하고 싶다.\n",
    "  - 단 그룹의 순서는 중요하지 않다.\n",
    "\n",
    "```python\n",
    "array = [\"a\", \"c\", \"d\", \"b\", \"c\", \"a\", \"d\", \"c\", \"b\", \"a\", \"d\"] \n",
    "# => [\"c\", \"c\", \"c\", \"a\", \"a\", \"a\", \"d\", \"d\", \"d\", \"b\", \"b\", \"b\"] == [\"a\", \"a\", \"a\", \"b\", \"b\", \"b\", \"c\", \"c\", \"c\", \"d\", \"d\", \"d\"]\n",
    "```"
   ]
  },
  {
   "cell_type": "code",
   "execution_count": 39,
   "metadata": {},
   "outputs": [],
   "source": [
    "# 자료구조 변경 기반 코드, O(N)\n",
    "\n",
    "def group_array(array):\n",
    "    hash_table = {}\n",
    "    new_array = []\n",
    "\n",
    "    for value in array:\n",
    "        if hash_table.get(value):\n",
    "            hash_table[value] += 1\n",
    "        else:\n",
    "            hash_table[value] = 1\n",
    "    \n",
    "    for value, count in hash_table.items():\n",
    "        new_array.extend(value * count)\n",
    "    \n",
    "    return new_array"
   ]
  },
  {
   "cell_type": "code",
   "execution_count": 40,
   "metadata": {},
   "outputs": [
    {
     "data": {
      "text/plain": [
       "['a', 'a', 'a', 'c', 'c', 'c', 'd', 'd', 'd', 'b', 'b']"
      ]
     },
     "execution_count": 40,
     "metadata": {},
     "output_type": "execute_result"
    }
   ],
   "source": [
    "array = [\"a\", \"c\", \"d\", \"b\", \"c\", \"a\", \"d\", \"c\", \"b\", \"a\", \"d\"] \n",
    "group_array(array)"
   ]
  },
  {
   "cell_type": "code",
   "execution_count": null,
   "metadata": {},
   "outputs": [],
   "source": []
  }
 ],
 "metadata": {
  "kernelspec": {
   "display_name": ".venv",
   "language": "python",
   "name": "python3"
  },
  "language_info": {
   "codemirror_mode": {
    "name": "ipython",
    "version": 3
   },
   "file_extension": ".py",
   "mimetype": "text/x-python",
   "name": "python",
   "nbconvert_exporter": "python",
   "pygments_lexer": "ipython3",
   "version": "3.11.7"
  }
 },
 "nbformat": 4,
 "nbformat_minor": 2
}
