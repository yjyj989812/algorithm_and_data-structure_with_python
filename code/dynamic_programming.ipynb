{
 "cells": [
  {
   "cell_type": "code",
   "execution_count": 1,
   "metadata": {},
   "outputs": [],
   "source": [
    "# 일반 재귀로 푼 피보나치\n",
    "def fibo(n):\n",
    "    if n == 0 or n == 1:\n",
    "        return n\n",
    "    return fibo(n-1) + fibo(n-2)"
   ]
  },
  {
   "cell_type": "code",
   "execution_count": 2,
   "metadata": {},
   "outputs": [
    {
     "data": {
      "text/plain": [
       "55"
      ]
     },
     "execution_count": 2,
     "metadata": {},
     "output_type": "execute_result"
    }
   ],
   "source": [
    "fibo(10)"
   ]
  },
  {
   "cell_type": "code",
   "execution_count": 35,
   "metadata": {},
   "outputs": [],
   "source": [
    "# dynamic programming 접근법1: memoization; 하위 호출 함수의 결과를 해쉬 테이블에 저장해 놓고 같은 함수를 호출하기 전 해쉬 테이블을 참고하게끔 하는 방법\n",
    "\n",
    "def fibo_memoization(n, table):\n",
    "    if n == 0 or n == 1:\n",
    "        return n\n",
    "    \n",
    "    if not table.get(n):\n",
    "        table[n] = fibo_memoization(n-1, table) + fibo_memoization(n-2, table)\n",
    "    \n",
    "    return table[n]"
   ]
  },
  {
   "cell_type": "code",
   "execution_count": 36,
   "metadata": {},
   "outputs": [
    {
     "data": {
      "text/plain": [
       "55"
      ]
     },
     "execution_count": 36,
     "metadata": {},
     "output_type": "execute_result"
    }
   ],
   "source": [
    "table = {}\n",
    "fibo_memoization(10, table)"
   ]
  },
  {
   "cell_type": "code",
   "execution_count": 14,
   "metadata": {},
   "outputs": [],
   "source": [
    "# dynamic programming 접근법2: 상향식; 재귀 외(loop 등) 방법으로 접근하는 것; 재귀는 하항식 기법을 따름\n",
    "\n",
    "def fibo_upper(n):\n",
    "    a = 0\n",
    "    b = 1\n",
    "    \n",
    "    for i in range(1, n):\n",
    "        temp = a\n",
    "        a = b\n",
    "        b = temp + a\n",
    "\n",
    "    return b"
   ]
  },
  {
   "cell_type": "code",
   "execution_count": 15,
   "metadata": {},
   "outputs": [
    {
     "data": {
      "text/plain": [
       "55"
      ]
     },
     "execution_count": 15,
     "metadata": {},
     "output_type": "execute_result"
    }
   ],
   "source": [
    "fibo_upper(10)"
   ]
  },
  {
   "cell_type": "markdown",
   "metadata": {},
   "source": [
    "---------------"
   ]
  },
  {
   "cell_type": "code",
   "execution_count": 16,
   "metadata": {},
   "outputs": [],
   "source": [
    "# problem1\n",
    "\n",
    "def add_until_100(array):\n",
    "    if len(array) == 0:\n",
    "        return 0\n",
    "    \n",
    "    if array[0] + add_until_100(array[1:]) > 100:\n",
    "        return add_until_100(array[1:])\n",
    "    else:\n",
    "        return array[0] + add_until_100(array[1:])"
   ]
  },
  {
   "cell_type": "code",
   "execution_count": 19,
   "metadata": {},
   "outputs": [
    {
     "data": {
      "text/plain": [
       "94"
      ]
     },
     "execution_count": 19,
     "metadata": {},
     "output_type": "execute_result"
    }
   ],
   "source": [
    "input_array = [10, 30, 20, 50, 44]\n",
    "add_until_100(input_array)"
   ]
  },
  {
   "cell_type": "code",
   "execution_count": 24,
   "metadata": {},
   "outputs": [],
   "source": [
    "def add_until_100(array):\n",
    "    if len(array) == 0:\n",
    "        return 0\n",
    "    \n",
    "    sub_result = add_until_100(array[1:])\n",
    "    if array[0] + sub_result > 100:\n",
    "        return sub_result\n",
    "    else:\n",
    "        return array[0] + sub_result"
   ]
  },
  {
   "cell_type": "code",
   "execution_count": 25,
   "metadata": {},
   "outputs": [
    {
     "data": {
      "text/plain": [
       "94"
      ]
     },
     "execution_count": 25,
     "metadata": {},
     "output_type": "execute_result"
    }
   ],
   "source": [
    "input_array = [10, 30, 20, 50, 44]\n",
    "add_until_100(input_array)"
   ]
  },
  {
   "cell_type": "code",
   "execution_count": 28,
   "metadata": {},
   "outputs": [],
   "source": [
    "# problem2\n",
    "\n",
    "def golomb(n):\n",
    "    if n == 1:\n",
    "        return 1\n",
    "    return 1 + golomb(n - golomb(golomb(n - 1)))"
   ]
  },
  {
   "cell_type": "code",
   "execution_count": 30,
   "metadata": {},
   "outputs": [
    {
     "data": {
      "text/plain": [
       "5"
      ]
     },
     "execution_count": 30,
     "metadata": {},
     "output_type": "execute_result"
    }
   ],
   "source": [
    "golomb(10)"
   ]
  },
  {
   "cell_type": "code",
   "execution_count": 61,
   "metadata": {},
   "outputs": [],
   "source": [
    "def golomb_memoization(n, table={}):\n",
    "    if n == 1:\n",
    "        return 1\n",
    "    if not table.get(n):\n",
    "        table[n] =  1 + golomb_memoization(n - golomb_memoization(golomb_memoization(n - 1, table), table), table)\n",
    "    \n",
    "    return table[n]"
   ]
  },
  {
   "cell_type": "code",
   "execution_count": 62,
   "metadata": {},
   "outputs": [
    {
     "data": {
      "text/plain": [
       "5"
      ]
     },
     "execution_count": 62,
     "metadata": {},
     "output_type": "execute_result"
    }
   ],
   "source": [
    "table = {}\n",
    "golomb_memoization(10, table)"
   ]
  },
  {
   "cell_type": "code",
   "execution_count": 41,
   "metadata": {},
   "outputs": [],
   "source": [
    "# problem3\n",
    "\n",
    "def count_paths(r, c):\n",
    "    if r == 1 or c == 1:\n",
    "        return 1\n",
    "    else:\n",
    "        return count_paths(r-1, c) + count_paths(r, c-1)"
   ]
  },
  {
   "cell_type": "code",
   "execution_count": 46,
   "metadata": {},
   "outputs": [
    {
     "data": {
      "text/plain": [
       "28"
      ]
     },
     "execution_count": 46,
     "metadata": {},
     "output_type": "execute_result"
    }
   ],
   "source": [
    "count_paths(3, 7)"
   ]
  },
  {
   "cell_type": "code",
   "execution_count": 67,
   "metadata": {},
   "outputs": [],
   "source": [
    "def count_paths_memoization(r, c, table={}):\n",
    "    if r == 1 or c == 1:\n",
    "        return 1\n",
    "    key = f\"{r}_{c}\"\n",
    "    \n",
    "    if not table.get(key):\n",
    "        table[key] = count_paths_memoization(r-1, c, table) + count_paths_memoization(r, c-1, table)\n",
    "    \n",
    "    return table[key]"
   ]
  },
  {
   "cell_type": "code",
   "execution_count": 68,
   "metadata": {},
   "outputs": [
    {
     "data": {
      "text/plain": [
       "28"
      ]
     },
     "execution_count": 68,
     "metadata": {},
     "output_type": "execute_result"
    }
   ],
   "source": [
    "table = {}\n",
    "count_paths_memoization(3, 7, table)"
   ]
  },
  {
   "cell_type": "code",
   "execution_count": null,
   "metadata": {},
   "outputs": [],
   "source": []
  }
 ],
 "metadata": {
  "kernelspec": {
   "display_name": ".venv",
   "language": "python",
   "name": "python3"
  },
  "language_info": {
   "codemirror_mode": {
    "name": "ipython",
    "version": 3
   },
   "file_extension": ".py",
   "mimetype": "text/x-python",
   "name": "python",
   "nbconvert_exporter": "python",
   "pygments_lexer": "ipython3",
   "version": "3.11.7"
  }
 },
 "nbformat": 4,
 "nbformat_minor": 2
}
