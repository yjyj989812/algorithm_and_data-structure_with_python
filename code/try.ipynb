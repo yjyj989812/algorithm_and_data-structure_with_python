{
 "cells": [
  {
   "cell_type": "code",
   "execution_count": 1,
   "metadata": {},
   "outputs": [],
   "source": [
    "class Trie_node:\n",
    "    def __init__(self) -> None:\n",
    "        self.children = {}"
   ]
  },
  {
   "cell_type": "code",
   "execution_count": null,
   "metadata": {},
   "outputs": [],
   "source": [
    "class Trie:\n",
    "    def __init__(self) -> None:\n",
    "        self.root = Trie_node()\n",
    "    \n",
    "    def search(self, word):\n",
    "        current_node = self.root\n",
    "\n",
    "        for char in word:\n",
    "            if current_node.children.get(char):\n",
    "                current_node = current_node.children[char]\n",
    "            else:\n",
    "                return None\n",
    "        \n",
    "        return current_node\n",
    "    \n",
    "    def insert(self, word):\n",
    "        current_node = self.root\n",
    "\n",
    "        for char in word:\n",
    "            if current_node.children.get(char):\n",
    "                current_node = current_node.children[char]\n",
    "            else:\n",
    "                new_node = Trie_node()\n",
    "                current_node.children[char] = new_node\n",
    "\n",
    "                current_node = new_node\n",
    "            \n",
    "        current_node.children[\"*\"] = None\n",
    "\n",
    "    def collect_all_words(self, node=None, word=\"\", words=[]):\n",
    "        current_node = node or self.root\n",
    "\n",
    "        for key, child_node in current_node.children.items():\n",
    "            if key == \"*\":\n",
    "                words.append(word)\n",
    "            else:\n",
    "                self.collect_all_words(child_node, word + key, words)\n",
    "        \n",
    "        return words\n",
    "\n",
    "    def auto_complete(self, prefix):\n",
    "        current_node = self.search(prefix)\n",
    "        if not current_node:\n",
    "            return None\n",
    "        return self.collect_all_words(current_node, prefix)"
   ]
  },
  {
   "cell_type": "markdown",
   "metadata": {
    "vscode": {
     "languageId": "plaintext"
    }
   },
   "source": [
    "----------------"
   ]
  },
  {
   "cell_type": "code",
   "execution_count": null,
   "metadata": {},
   "outputs": [],
   "source": []
  }
 ],
 "metadata": {
  "kernelspec": {
   "display_name": ".venv",
   "language": "python",
   "name": "python3"
  },
  "language_info": {
   "codemirror_mode": {
    "name": "ipython",
    "version": 3
   },
   "file_extension": ".py",
   "mimetype": "text/x-python",
   "name": "python",
   "nbconvert_exporter": "python",
   "pygments_lexer": "ipython3",
   "version": "3.11.7"
  }
 },
 "nbformat": 4,
 "nbformat_minor": 2
}
