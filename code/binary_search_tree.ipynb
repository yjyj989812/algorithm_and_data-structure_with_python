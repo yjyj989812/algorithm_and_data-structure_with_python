{
 "cells": [
  {
   "cell_type": "code",
   "execution_count": 3,
   "metadata": {},
   "outputs": [],
   "source": [
    "# tree sample code\n",
    "class Tree_node:\n",
    "    def __init__(self, val, left=None, right=None) -> None:\n",
    "        self.value = val\n",
    "        self.left_child = left\n",
    "        self.right_child = right\n"
   ]
  },
  {
   "cell_type": "code",
   "execution_count": 4,
   "metadata": {},
   "outputs": [],
   "source": [
    "def search(search_value, node):\n",
    "    if node is None or node.value == search_value:\n",
    "        return node\n",
    "    elif search_value < node.value:\n",
    "        return search(search_value, node.left_child)\n",
    "    else: # search_value > node.value\n",
    "        return search(search_value, node.right_child)"
   ]
  },
  {
   "cell_type": "code",
   "execution_count": 8,
   "metadata": {},
   "outputs": [],
   "source": [
    "def insert(value, node):\n",
    "    if value < node.value:\n",
    "        if node.left_child is None:\n",
    "            node.left_child = Tree_node(value)\n",
    "        else:\n",
    "            insert(value, node.left_child)\n",
    "    elif value > node.value:\n",
    "        if node.right_child is None:\n",
    "            node.right_child = Tree_node(value)\n",
    "        else:\n",
    "            insert(value, node.right_child)"
   ]
  },
  {
   "cell_type": "code",
   "execution_count": 13,
   "metadata": {},
   "outputs": [],
   "source": [
    "def delete(vlaue_to_delete, node):\n",
    "    if node is None:\n",
    "        return None\n",
    "    \n",
    "    elif vlaue_to_delete < node.value:\n",
    "        node.left_child = delete(vlaue_to_delete, node.left_child)\n",
    "        return node\n",
    "    elif vlaue_to_delete > node.value:\n",
    "        node.right_child = delete(vlaue_to_delete, node.right_child)\n",
    "        return node\n",
    "    \n",
    "    elif vlaue_to_delete == node.value:\n",
    "        if node.left_child is None:\n",
    "            return node.right_child\n",
    "        elif node.right_child is None:\n",
    "            return node.left_child\n",
    "        else:\n",
    "            node.right_child = lift(node.right__child, node)\n",
    "            return node"
   ]
  },
  {
   "cell_type": "code",
   "execution_count": 12,
   "metadata": {},
   "outputs": [],
   "source": [
    "def lift(node, node_to_delete):\n",
    "    if node.left_child:\n",
    "        node.left_child = lift(node.left_child, node_to_delete)\n",
    "        return node\n",
    "    else:\n",
    "        node_to_delete.value = node.value\n",
    "        return node.right_child"
   ]
  },
  {
   "cell_type": "code",
   "execution_count": 14,
   "metadata": {},
   "outputs": [],
   "source": [
    "def traverse_and_print(node):\n",
    "    if node is None:\n",
    "        return\n",
    "    \n",
    "    traverse_and_print(node.left_child)\n",
    "    print(node.value)\n",
    "    traverse_and_print(node.right_child)"
   ]
  },
  {
   "cell_type": "markdown",
   "metadata": {},
   "source": [
    "-----------------"
   ]
  },
  {
   "cell_type": "code",
   "execution_count": 5,
   "metadata": {},
   "outputs": [],
   "source": [
    "node1 = Tree_node(25)\n",
    "node2 = Tree_node(75)\n",
    "root = Tree_node(50, node1, node2)"
   ]
  },
  {
   "cell_type": "code",
   "execution_count": 7,
   "metadata": {},
   "outputs": [
    {
     "data": {
      "text/plain": [
       "25"
      ]
     },
     "execution_count": 7,
     "metadata": {},
     "output_type": "execute_result"
    }
   ],
   "source": [
    "search(25, root).value"
   ]
  },
  {
   "cell_type": "code",
   "execution_count": 9,
   "metadata": {},
   "outputs": [],
   "source": [
    "insert(100, root)"
   ]
  },
  {
   "cell_type": "code",
   "execution_count": null,
   "metadata": {},
   "outputs": [],
   "source": []
  }
 ],
 "metadata": {
  "kernelspec": {
   "display_name": ".venv",
   "language": "python",
   "name": "python3"
  },
  "language_info": {
   "codemirror_mode": {
    "name": "ipython",
    "version": 3
   },
   "file_extension": ".py",
   "mimetype": "text/x-python",
   "name": "python",
   "nbconvert_exporter": "python",
   "pygments_lexer": "ipython3",
   "version": "3.11.7"
  }
 },
 "nbformat": 4,
 "nbformat_minor": 2
}
