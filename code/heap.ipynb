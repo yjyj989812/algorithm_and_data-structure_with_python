{
 "cells": [
  {
   "cell_type": "code",
   "execution_count": null,
   "metadata": {},
   "outputs": [],
   "source": [
    "class Heap:\n",
    "    def __init__(self) -> None:\n",
    "        self.data = []\n",
    "    \n",
    "    def root_node(self):\n",
    "        return self.data[0]\n",
    "    \n",
    "    def last_node(self):\n",
    "        return self.data[-1]\n",
    "\n",
    "    def left_child_index(self, index):\n",
    "        return (index * 2) + 1\n",
    "    \n",
    "    def right_child_index(self, index):\n",
    "        return (index * 2) + 2\n",
    "\n",
    "    def parent_index(self, index):\n",
    "        return (index - 1) // 2\n",
    "\n",
    "    def insert(self, value):\n",
    "        self.data.append(value)\n",
    "        new_node_index = len(self.data) - 1\n",
    "\n",
    "        while new_node_index > 0 and self.data[new_node_index] > self.data[self.parent_index(new_node_index)]:\n",
    "            self.data[self.parent_index(new_node_index)], self.data[new_node_index] = self.data[new_node_index], self.data[self.parent_index(new_node_index)]\n",
    "\n",
    "            new_node_index = self.parent_index(new_node_index)\n",
    "\n",
    "    def delete(self):\n",
    "        self.data[0] = self.data.pop()\n",
    "        trickle_node_index = 0\n",
    "\n",
    "        while self.has_greater_child(trickle_node_index):\n",
    "            larger_child_index = self.calculate_larger_child_index(trickle_node_index)\n",
    "            self.data[trickle_node_index], self.data[larger_child_index] = self.data[larger_child_index], self.data[trickle_node_index]\n",
    "\n",
    "            trickle_node_index = larger_child_index\n",
    "    \n",
    "    def has_greater_child(self, index):\n",
    "        try:\n",
    "            if (self.data[self.left_child_index(index)] and self.data[self.left_child_index(index)] > self.data[index]) or \\\n",
    "                (self.data[self.right_child_index(index)] and self.data[self.right_child_index(index)] > self.data[index]):\n",
    "                return True\n",
    "            else:\n",
    "                return False\n",
    "        except Exception as e: # out of index case\n",
    "            return False\n",
    "    \n",
    "    def calculate_larger_child_index(self, index):\n",
    "        if not self.data[self.right_child_index(index)]:\n",
    "            return self.left_child_index(index)\n",
    "        \n",
    "        if self.data[self.right_child_index] > self.data[self.left_child_index(index)]:\n",
    "            return self.right_child_index(index)\n",
    "        else:\n",
    "            return self.left_child_index(index)"
   ]
  },
  {
   "cell_type": "markdown",
   "metadata": {},
   "source": [
    "-------------------------"
   ]
  },
  {
   "cell_type": "code",
   "execution_count": 23,
   "metadata": {},
   "outputs": [],
   "source": [
    "h1 = Heap()"
   ]
  },
  {
   "cell_type": "code",
   "execution_count": 24,
   "metadata": {},
   "outputs": [],
   "source": [
    "for i in range(10, 100, 10):\n",
    "    h1.insert(i)"
   ]
  },
  {
   "cell_type": "code",
   "execution_count": 25,
   "metadata": {},
   "outputs": [
    {
     "data": {
      "text/plain": [
       "40"
      ]
     },
     "execution_count": 25,
     "metadata": {},
     "output_type": "execute_result"
    }
   ],
   "source": [
    "h1.last_node()"
   ]
  },
  {
   "cell_type": "code",
   "execution_count": 26,
   "metadata": {},
   "outputs": [
    {
     "data": {
      "text/plain": [
       "90"
      ]
     },
     "execution_count": 26,
     "metadata": {},
     "output_type": "execute_result"
    }
   ],
   "source": [
    "h1.root_node()"
   ]
  },
  {
   "cell_type": "code",
   "execution_count": 27,
   "metadata": {},
   "outputs": [
    {
     "data": {
      "text/plain": [
       "[90, 80, 60, 70, 30, 20, 50, 10, 40]"
      ]
     },
     "execution_count": 27,
     "metadata": {},
     "output_type": "execute_result"
    }
   ],
   "source": [
    "h1.data"
   ]
  }
 ],
 "metadata": {
  "kernelspec": {
   "display_name": ".venv",
   "language": "python",
   "name": "python3"
  },
  "language_info": {
   "codemirror_mode": {
    "name": "ipython",
    "version": 3
   },
   "file_extension": ".py",
   "mimetype": "text/x-python",
   "name": "python",
   "nbconvert_exporter": "python",
   "pygments_lexer": "ipython3",
   "version": "3.11.7"
  }
 },
 "nbformat": 4,
 "nbformat_minor": 2
}
