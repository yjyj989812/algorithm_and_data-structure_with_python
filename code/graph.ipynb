{
 "cells": [
  {
   "cell_type": "code",
   "execution_count": null,
   "metadata": {},
   "outputs": [],
   "source": [
    "# Object-oriented Graph\n",
    "class Vertex:\n",
    "    def __init__(self, value=None, adjacent_vertieces=[]) -> None:\n",
    "        self.value = value\n",
    "        self.adjacent_vertieces = adjacent_vertieces\n",
    "    \n",
    "    def init(self, value):\n",
    "        self.value = value\n",
    "        self.adjacent_vertieces = []\n",
    "    \n",
    "    # 방향성 그래프\n",
    "    def add_adjacent_vertex(self, vertex):\n",
    "        self.adjacent_vertieces.append(vertex)\n",
    "    \n",
    "    # 무방향 or 양방향 그래프 시\n",
    "    def add_adjacent_vertex_bothside(self, vertex):\n",
    "        if vertex in self.adjacent_vertieces:\n",
    "            return \n",
    "        self.adjacent_vertieces.append(vertex)\n",
    "        vertex.add_adjacent_vertex_bothside(self)"
   ]
  },
  {
   "cell_type": "code",
   "execution_count": null,
   "metadata": {},
   "outputs": [],
   "source": [
    "# weighted graph vertex\n",
    "class Weighted_graph_vertex:\n",
    "    def __init__(self, value=None) -> None:\n",
    "        self.value = value\n",
    "        self.adjacent_vertices = {}\n",
    "    \n",
    "    def init(self, value):\n",
    "        self.value = value\n",
    "        self.adjacent_vertices = {}\n",
    "    \n",
    "    def add_adjacent_vertex(self, vertex, weight):\n",
    "        self.adjacent_vertices[vertex] = weight"
   ]
  },
  {
   "cell_type": "code",
   "execution_count": null,
   "metadata": {},
   "outputs": [],
   "source": [
    "# queue class for bfs\n",
    "class Queue:\n",
    "    def __init__(self):\n",
    "        self.queue = []\n",
    "    \n",
    "    def is_empty(self):\n",
    "        return len(self.queue) == 0\n",
    "\n",
    "    def enqueue(self, value):\n",
    "        return self.queue.append(value)\n",
    "\n",
    "    def dequeue(self):\n",
    "        if not self.is_empty():\n",
    "            return self.queue.pop(0)\n",
    "        else:\n",
    "            return None\n",
    "\n",
    "    def size(self):\n",
    "        return len(self.queue)"
   ]
  },
  {
   "cell_type": "code",
   "execution_count": null,
   "metadata": {},
   "outputs": [],
   "source": [
    "# DPS, 깊이우선탐색\n",
    "def dfs_traverse(vertex, visited_vertices={}):\n",
    "    visited_vertices[vertex.value] = True\n",
    "    print(vertex.value)\n",
    "\n",
    "    for v in vertex.adjacent_vertieces:\n",
    "        if visited_vertices[v.value]:\n",
    "            continue\n",
    "        dfs_traverse(v, visited_vertices)\n",
    "\n",
    "def dfs_search(vertex, search_value, visited_vertices={}):\n",
    "    if vertex.value == search_value:\n",
    "        return vertex\n",
    "    \n",
    "    visited_vertices[vertex.value] = True\n",
    "\n",
    "    for v in vertex.adjacent_vertieces:\n",
    "        if visited_vertices[v.value]:\n",
    "            continue\n",
    "\n",
    "        if v.value == search_value:\n",
    "            return v\n",
    "        \n",
    "        vertex_weere_searching_for = dfs_search(v, search_value, visited_vertices)\n",
    "\n",
    "        if vertex_weere_searching_for:\n",
    "            return vertex_weere_searching_for\n",
    "\n",
    "# BPS, 넓이우선탐색\n",
    "def bfs_traverse(starting_vertex):\n",
    "    queue = Queue()\n",
    "    visited_vertices = {}\n",
    "    visited_vertices[starting_vertex.value] = True\n",
    "    queue.enqueue(starting_vertex)\n",
    "\n",
    "    while not queue.is_empty():\n",
    "        current_vertex = queue.dequeue()\n",
    "        \n",
    "        print(current_vertex.value)\n",
    "\n",
    "        for v in current_vertex.adjacent_vertieces:\n",
    "            if not visited_vertices[v.value]:\n",
    "                visited_vertices[v.value] = True\n",
    "                queue.enqueue(v)\n",
    "\n",
    "def bfs_search(starting_vertex, search_value):\n",
    "    queue = Queue()\n",
    "    visited_vertices = {}\n",
    "    visited_vertices[starting_vertex.value] = True\n",
    "    queue.enqueue(starting_vertex)\n",
    "\n",
    "    while not queue.is_empty():\n",
    "        current_vertex = queue.dequeue()\n",
    "        \n",
    "        if current_vertex.value == search_value:\n",
    "            return current_vertex\n",
    "        \n",
    "        for v in current_vertex.adjacent_vertieces:\n",
    "            if not visited_vertices[v.value]:\n",
    "                visited_vertices[v.value] = True\n",
    "                queue.enqueue(v)\n",
    "    \n",
    "    return None\n"
   ]
  },
  {
   "cell_type": "markdown",
   "metadata": {},
   "source": [
    "------------------"
   ]
  },
  {
   "cell_type": "code",
   "execution_count": 29,
   "metadata": {},
   "outputs": [],
   "source": [
    "# weighted graph vertex City for dijkstra\n",
    "class City:\n",
    "    def __init__(self, name=None) -> None:\n",
    "        self.name = name\n",
    "        self.routes = {}\n",
    "    \n",
    "    def init(self, name):\n",
    "        self.name = name\n",
    "        self.routes = {}\n",
    "    \n",
    "    def add_route(self, city, price):\n",
    "        self.routes[city] = price"
   ]
  },
  {
   "cell_type": "code",
   "execution_count": 40,
   "metadata": {},
   "outputs": [],
   "source": [
    "#dijkstra(데이크스트라) algorithm: for shortest path problem\n",
    "def dijkstra_shortest_path(starting_city, final_destination):\n",
    "    cheapest_prices_table = {}\n",
    "    cheaptest_previous_stopover_city_table = {}\n",
    "\n",
    "    unvisited_cities = [starting_city]\n",
    "    visited_cities = {}\n",
    "\n",
    "    cheapest_prices_table[starting_city.name] = 0\n",
    "    current_city = starting_city\n",
    "\n",
    "    while current_city:\n",
    "        visited_cities[current_city.name] = True\n",
    "        unvisited_cities.remove(current_city)\n",
    "\n",
    "        for adjacent_city, price in current_city.routes.items():\n",
    "            if adjacent_city.name not in visited_cities.keys():\n",
    "                unvisited_cities.append(adjacent_city)\n",
    "\n",
    "            price_through_current_city = cheapest_prices_table[current_city.name] + price\n",
    "\n",
    "            if adjacent_city.name not in cheapest_prices_table.keys() or price_through_current_city < cheapest_prices_table[adjacent_city.name]:\n",
    "                cheapest_prices_table[adjacent_city.name] = price_through_current_city\n",
    "                cheaptest_previous_stopover_city_table[adjacent_city.name] = current_city.name\n",
    "        \n",
    "        current_city = min(unvisited_cities, key=lambda city: cheapest_prices_table[city.name], default=None)\n",
    "\n",
    "    shortest_path = []\n",
    "    current_city_name = final_destination.name\n",
    "\n",
    "    while current_city_name != starting_city.name:\n",
    "        shortest_path.append(current_city_name)\n",
    "        current_city_name = cheaptest_previous_stopover_city_table[current_city_name]\n",
    "    \n",
    "    shortest_path.append(starting_city.name)\n",
    "    return shortest_path.reverse()"
   ]
  },
  {
   "cell_type": "code",
   "execution_count": null,
   "metadata": {},
   "outputs": [],
   "source": [
    "# Dijkstra algorithm for shortest path problem with GPT(https://chatgpt.com/share/674fbbb4-1978-8008-afe9-600e8296d948) to debug\n",
    "def dijkstra_shortest_path(starting_city, final_destination):\n",
    "    cheapest_prices_table = {}\n",
    "    cheapest_previous_stopover_city_table = {}\n",
    "\n",
    "    unvisited_cities = [starting_city]\n",
    "    visited_cities = set()  # Set to keep track of visited cities\n",
    "\n",
    "    cheapest_prices_table[starting_city.name] = 0\n",
    "    current_city = starting_city\n",
    "\n",
    "    while unvisited_cities:\n",
    "        # Visit current city\n",
    "        visited_cities.add(current_city)\n",
    "        unvisited_cities.remove(current_city)\n",
    "\n",
    "        # For each adjacent city, calculate the new cost\n",
    "        for adjacent_city, price in current_city.routes.items():\n",
    "            if adjacent_city not in visited_cities:\n",
    "                unvisited_cities.append(adjacent_city)\n",
    "\n",
    "            price_through_current_city = cheapest_prices_table[current_city.name] + price\n",
    "\n",
    "            if adjacent_city.name not in cheapest_prices_table or price_through_current_city < cheapest_prices_table[adjacent_city.name]:\n",
    "                cheapest_prices_table[adjacent_city.name] = price_through_current_city\n",
    "                cheapest_previous_stopover_city_table[adjacent_city.name] = current_city.name\n",
    "\n",
    "        # Get the next city with the lowest cost\n",
    "        current_city = min(unvisited_cities, key=lambda city: cheapest_prices_table.get(city.name, float('inf')), default=None)\n",
    "\n",
    "        if current_city is None:\n",
    "            break\n",
    "\n",
    "    # Reconstruct the shortest path\n",
    "    shortest_path = []\n",
    "    current_city_name = final_destination.name\n",
    "\n",
    "    while current_city_name != starting_city.name:\n",
    "        shortest_path.append(current_city_name)\n",
    "        current_city_name = cheapest_previous_stopover_city_table.get(current_city_name)\n",
    "\n",
    "        if current_city_name is None:\n",
    "            break  # If no path exists, break out of the loop\n",
    "    \n",
    "    shortest_path.append(starting_city.name)\n",
    "\n",
    "    return shortest_path[::-1]  # Reverse the path to return from start to destination"
   ]
  },
  {
   "cell_type": "markdown",
   "metadata": {},
   "source": [
    "------------------"
   ]
  },
  {
   "cell_type": "code",
   "execution_count": 2,
   "metadata": {},
   "outputs": [],
   "source": [
    "alice = Vertex(\"alice\")\n",
    "bab = Vertex(\"bab\")\n",
    "cynthia = Vertex(\"cynthia\")\n",
    "\n",
    "alice.add_adjacent_vertex(bab)\n",
    "alice.add_adjacent_vertex(cynthia)\n",
    "bab.add_adjacent_vertex(cynthia)\n",
    "cynthia.add_adjacent_vertex(bab)"
   ]
  },
  {
   "cell_type": "code",
   "execution_count": 6,
   "metadata": {},
   "outputs": [],
   "source": [
    "alice = Vertex(\"alice\")\n",
    "bab = Vertex(\"bab\")\n",
    "cynthia = Vertex(\"cynthia\")\n",
    "\n",
    "alice.add_adjacent_vertex_bothside(bab)\n",
    "alice.add_adjacent_vertex_bothside(cynthia)\n",
    "bab.add_adjacent_vertex_bothside(cynthia)\n",
    "cynthia.add_adjacent_vertex_bothside(bab)"
   ]
  },
  {
   "cell_type": "code",
   "execution_count": 2,
   "metadata": {},
   "outputs": [],
   "source": [
    "# example of weighted graph\n",
    "dallas = Weighted_graph_vertex(\"Dallas\")\n",
    "toronto = Weighted_graph_vertex(\"Toronto\")\n",
    "\n",
    "dallas.add_adjacent_vertex(toronto, 138)\n",
    "toronto.add_adjacent_vertex(dallas, 216)"
   ]
  },
  {
   "cell_type": "code",
   "execution_count": 3,
   "metadata": {},
   "outputs": [
    {
     "data": {
      "text/plain": [
       "<bound method Weighted_graph_vertex.add_adjacent_vertex of <__main__.Weighted_graph_vertex object at 0x0000020033847A90>>"
      ]
     },
     "execution_count": 3,
     "metadata": {},
     "output_type": "execute_result"
    }
   ],
   "source": [
    "dallas.add_adjacent_vertex"
   ]
  },
  {
   "cell_type": "code",
   "execution_count": 45,
   "metadata": {},
   "outputs": [],
   "source": [
    "# example of dijkstra\n",
    "\n",
    "atlanta = City(\"Atlanta\")\n",
    "boston = City(\"Boston\")\n",
    "chicago = City(\"Chicago\")\n",
    "denver = City(\"Denver\")\n",
    "el_paso = City(\"El Paso\")\n",
    "\n",
    "atlanta.add_route(boston, 100)\n",
    "atlanta.add_route(denver, 160)\n",
    "boston.add_route(chicago, 120)\n",
    "boston.add_route(denver, 180)\n",
    "chicago.add_route(el_paso, 80)\n",
    "denver.add_route(chicago, 40)\n",
    "denver.add_route(el_paso, 140)"
   ]
  },
  {
   "cell_type": "code",
   "execution_count": 46,
   "metadata": {},
   "outputs": [],
   "source": [
    "reuslt = dijkstra_shortest_path(atlanta, el_paso)"
   ]
  },
  {
   "cell_type": "code",
   "execution_count": 47,
   "metadata": {},
   "outputs": [
    {
     "data": {
      "text/plain": [
       "['Atlanta', 'Denver', 'Chicago', 'El Paso']"
      ]
     },
     "execution_count": 47,
     "metadata": {},
     "output_type": "execute_result"
    }
   ],
   "source": [
    "reuslt"
   ]
  },
  {
   "cell_type": "code",
   "execution_count": null,
   "metadata": {},
   "outputs": [],
   "source": []
  }
 ],
 "metadata": {
  "kernelspec": {
   "display_name": ".venv",
   "language": "python",
   "name": "python3"
  },
  "language_info": {
   "codemirror_mode": {
    "name": "ipython",
    "version": 3
   },
   "file_extension": ".py",
   "mimetype": "text/x-python",
   "name": "python",
   "nbconvert_exporter": "python",
   "pygments_lexer": "ipython3",
   "version": "3.11.7"
  }
 },
 "nbformat": 4,
 "nbformat_minor": 2
}
