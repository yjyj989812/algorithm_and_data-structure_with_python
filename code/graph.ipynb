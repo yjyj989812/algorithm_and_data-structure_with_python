{
 "cells": [
  {
   "cell_type": "code",
   "execution_count": null,
   "metadata": {},
   "outputs": [],
   "source": [
    "# Object-oriented Graph\n",
    "class Vertex:\n",
    "    def __init__(self, value=None, adjacent_vertieces=[]) -> None:\n",
    "        self.value = value\n",
    "        self.adjacent_vertieces = adjacent_vertieces\n",
    "    \n",
    "    def init(self, value):\n",
    "        self.value = value\n",
    "        self.adjacent_vertieces = []\n",
    "    \n",
    "    # 방향성 그래프\n",
    "    def add_adjacent_vertex(self, vertex):\n",
    "        self.adjacent_vertieces.append(vertex)\n",
    "    \n",
    "    # 무방향 or 양방향 그래프 시\n",
    "    def add_adjacent_vertex_bothside(self, vertex):\n",
    "        if vertex in self.adjacent_vertieces:\n",
    "            return \n",
    "        self.adjacent_vertieces.append(vertex)\n",
    "        vertex.add_adjacent_vertex_bothside(self)"
   ]
  },
  {
   "cell_type": "code",
   "execution_count": null,
   "metadata": {},
   "outputs": [],
   "source": [
    "# DPS, 깊이우선탐색\n"
   ]
  },
  {
   "cell_type": "markdown",
   "metadata": {},
   "source": [
    "------------------"
   ]
  },
  {
   "cell_type": "code",
   "execution_count": 2,
   "metadata": {},
   "outputs": [],
   "source": [
    "alice = Vertex(\"alice\")\n",
    "bab = Vertex(\"bab\")\n",
    "cynthia = Vertex(\"cynthia\")\n",
    "\n",
    "alice.add_adjacent_vertex(bab)\n",
    "alice.add_adjacent_vertex(cynthia)\n",
    "bab.add_adjacent_vertex(cynthia)\n",
    "cynthia.add_adjacent_vertex(bab)"
   ]
  },
  {
   "cell_type": "code",
   "execution_count": 6,
   "metadata": {},
   "outputs": [],
   "source": [
    "alice = Vertex(\"alice\")\n",
    "bab = Vertex(\"bab\")\n",
    "cynthia = Vertex(\"cynthia\")\n",
    "\n",
    "alice.add_adjacent_vertex_bothside(bab)\n",
    "alice.add_adjacent_vertex_bothside(cynthia)\n",
    "bab.add_adjacent_vertex_bothside(cynthia)\n",
    "cynthia.add_adjacent_vertex_bothside(bab)"
   ]
  },
  {
   "cell_type": "code",
   "execution_count": null,
   "metadata": {},
   "outputs": [],
   "source": []
  }
 ],
 "metadata": {
  "kernelspec": {
   "display_name": ".venv",
   "language": "python",
   "name": "python3"
  },
  "language_info": {
   "codemirror_mode": {
    "name": "ipython",
    "version": 3
   },
   "file_extension": ".py",
   "mimetype": "text/x-python",
   "name": "python",
   "nbconvert_exporter": "python",
   "pygments_lexer": "ipython3",
   "version": "3.11.7"
  }
 },
 "nbformat": 4,
 "nbformat_minor": 2
}
