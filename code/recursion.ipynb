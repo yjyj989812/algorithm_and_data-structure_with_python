{
 "cells": [
  {
   "cell_type": "code",
   "execution_count": 3,
   "metadata": {},
   "outputs": [],
   "source": [
    "def sum(array):\n",
    "    if len(array) == 1:\n",
    "        return array[0]\n",
    "    else:\n",
    "        return array[0] + sum(array[1:])"
   ]
  },
  {
   "cell_type": "code",
   "execution_count": 4,
   "metadata": {},
   "outputs": [
    {
     "data": {
      "text/plain": [
       "15"
      ]
     },
     "execution_count": 4,
     "metadata": {},
     "output_type": "execute_result"
    }
   ],
   "source": [
    "array = [1, 2, 3, 4, 5]\n",
    "sum(array)"
   ]
  },
  {
   "cell_type": "code",
   "execution_count": 8,
   "metadata": {},
   "outputs": [],
   "source": [
    "def reverse_str(_str):\n",
    "    if len(_str) == 1:\n",
    "        return _str[0]\n",
    "    else:\n",
    "        return  reverse_str(_str[1:]) + _str[0]"
   ]
  },
  {
   "cell_type": "code",
   "execution_count": 9,
   "metadata": {},
   "outputs": [
    {
     "data": {
      "text/plain": [
       "'edcba'"
      ]
     },
     "execution_count": 9,
     "metadata": {},
     "output_type": "execute_result"
    }
   ],
   "source": [
    "tmp_str = 'abcde'\n",
    "reverse_str(tmp_str)"
   ]
  },
  {
   "cell_type": "code",
   "execution_count": 10,
   "metadata": {},
   "outputs": [],
   "source": [
    "def count_x(_str):\n",
    "    if len(_str) == 1:\n",
    "        if _str[0] == 'x':\n",
    "            return 1\n",
    "        else:\n",
    "            return 0\n",
    "    else:\n",
    "        if _str[0] == 'x':\n",
    "            return 1 + count_x(_str[1:])\n",
    "        else:\n",
    "            return count_x(_str[1:])"
   ]
  },
  {
   "cell_type": "code",
   "execution_count": 11,
   "metadata": {},
   "outputs": [
    {
     "data": {
      "text/plain": [
       "3"
      ]
     },
     "execution_count": 11,
     "metadata": {},
     "output_type": "execute_result"
    }
   ],
   "source": [
    "tmp_str = 'abcxdxefgxh'\n",
    "count_x(tmp_str)"
   ]
  },
  {
   "cell_type": "code",
   "execution_count": 12,
   "metadata": {},
   "outputs": [],
   "source": [
    "# step problem\n",
    "\n",
    "def num_of_paths(n):\n",
    "    if n == 0 or n == 1:\n",
    "        return 1\n",
    "    elif n < 0:\n",
    "        return 0\n",
    "    else:\n",
    "        return num_of_paths(n-1) + num_of_paths(n-2) + num_of_paths(n-3)"
   ]
  },
  {
   "cell_type": "code",
   "execution_count": 19,
   "metadata": {},
   "outputs": [
    {
     "data": {
      "text/plain": [
       "7"
      ]
     },
     "execution_count": 19,
     "metadata": {},
     "output_type": "execute_result"
    }
   ],
   "source": [
    "\"\"\"\n",
    "    1, 1, 1, 1\n",
    "    1, 1, 2\n",
    "    1, 2, 1\n",
    "    2, 1, 1\n",
    "    1, 3\n",
    "    3, 1\n",
    "    2, 2\n",
    "\"\"\"\n",
    "num_of_paths(4)"
   ]
  },
  {
   "cell_type": "code",
   "execution_count": 51,
   "metadata": {},
   "outputs": [],
   "source": [
    "\"\"\"\n",
    "    # anagrams 잘 못 된 코드\n",
    "\n",
    "    def anagrams_of(_str):\n",
    "        if len(_str) == 1: \n",
    "            return _str[0]\n",
    "\n",
    "        collection = []\n",
    "        substring_anagrams = anagrams_of(_str[1:])\n",
    "\n",
    "        for anagram in substring_anagrams:\n",
    "            for i in range(len(anagram)):\n",
    "                char_list = list(anagram)\n",
    "                char_list.insert(i, _str[0])\n",
    "                collection.append(''.join(char_list))\n",
    "\n",
    "        return collection\n",
    "\"\"\"\n",
    "\n",
    "# anagrams 수정 버전\n",
    "def anagrams_of(_str):\n",
    "    if len(_str) == 1:\n",
    "        return [_str]  # 리스트로 반환 결과를 리스트로 제공안하면 문자열로 반한되여 재귀가 제대로 작동안함\n",
    "\n",
    "    collection = []\n",
    "    substring_anagrams = anagrams_of(_str[1:])  # 재귀적으로 부분 문자열의 애너그램을 구함\n",
    "\n",
    "    for anagram in substring_anagrams:\n",
    "        for i in range(len(anagram) + 1):  # +1 해야 모든 위치에 삽입 가능\n",
    "            new_anagram = anagram[:i] + _str[0] + anagram[i:]\n",
    "            collection.append(new_anagram)\n",
    "            #char_list = list(anagram)\n",
    "            #char_list.insert(i, _str[0])\n",
    "            #collection.append(''.join(char_list))\n",
    "    \n",
    "    return collection\n"
   ]
  },
  {
   "cell_type": "code",
   "execution_count": 52,
   "metadata": {},
   "outputs": [
    {
     "data": {
      "text/plain": [
       "['abc', 'bac', 'bca', 'acb', 'cab', 'cba']"
      ]
     },
     "execution_count": 52,
     "metadata": {},
     "output_type": "execute_result"
    }
   ],
   "source": [
    "anagrams_of('abc')"
   ]
  },
  {
   "cell_type": "markdown",
   "metadata": {},
   "source": [
    "---------------------------"
   ]
  },
  {
   "cell_type": "code",
   "execution_count": 53,
   "metadata": {},
   "outputs": [],
   "source": [
    "def count_char_in_words(words):\n",
    "    if len(words) == 1:\n",
    "        return len(words[0])\n",
    "    \n",
    "    return len(words[0]) + count_char_in_words(words[1:])"
   ]
  },
  {
   "cell_type": "code",
   "execution_count": 54,
   "metadata": {},
   "outputs": [
    {
     "data": {
      "text/plain": [
       "10"
      ]
     },
     "execution_count": 54,
     "metadata": {},
     "output_type": "execute_result"
    }
   ],
   "source": [
    "words = [\"ab\", \"c\", \"def\", \"ghij\"]\n",
    "count_char_in_words(words)"
   ]
  },
  {
   "cell_type": "code",
   "execution_count": 56,
   "metadata": {},
   "outputs": [],
   "source": [
    "def collect_odd_numbers(num_list):\n",
    "    if len(num_list) == 1:\n",
    "        if num_list[0] % 2 == 0:\n",
    "            return num_list\n",
    "    else:\n",
    "        if num_list[0] % 2 == 0:\n",
    "            return [num_list[0]] + collect_odd_numbers(num_list[1:])\n",
    "        else:\n",
    "            return collect_odd_numbers(num_list[1:])"
   ]
  },
  {
   "cell_type": "code",
   "execution_count": 58,
   "metadata": {},
   "outputs": [
    {
     "data": {
      "text/plain": [
       "[2, 4, 100]"
      ]
     },
     "execution_count": 58,
     "metadata": {},
     "output_type": "execute_result"
    }
   ],
   "source": [
    "numbers = [1, 2, 3, 4, 100]\n",
    "collect_odd_numbers(numbers)"
   ]
  },
  {
   "cell_type": "code",
   "execution_count": 3,
   "metadata": {},
   "outputs": [],
   "source": [
    "def cal_triangular_num(n):\n",
    "    if n == 1:\n",
    "        return 1\n",
    "    else:\n",
    "        return n + cal_triangular_num(n-1)"
   ]
  },
  {
   "cell_type": "code",
   "execution_count": 5,
   "metadata": {},
   "outputs": [
    {
     "data": {
      "text/plain": [
       "28"
      ]
     },
     "execution_count": 5,
     "metadata": {},
     "output_type": "execute_result"
    }
   ],
   "source": [
    "cal_triangular_num(7)"
   ]
  },
  {
   "cell_type": "code",
   "execution_count": 1,
   "metadata": {},
   "outputs": [],
   "source": [
    "def return_x_index(_str):\n",
    "    if len(_str) < 1:\n",
    "        return False\n",
    "    else:\n",
    "        if _str[0] == 'x':\n",
    "            return 0\n",
    "        else:\n",
    "            return 1 + return_x_index(_str[1:])"
   ]
  },
  {
   "cell_type": "code",
   "execution_count": 2,
   "metadata": {},
   "outputs": [
    {
     "data": {
      "text/plain": [
       "23"
      ]
     },
     "execution_count": 2,
     "metadata": {},
     "output_type": "execute_result"
    }
   ],
   "source": [
    "tmp_str = 'abcdefghijklmnopqrstuvwxyz'\n",
    "return_x_index(tmp_str)"
   ]
  },
  {
   "cell_type": "code",
   "execution_count": 10,
   "metadata": {},
   "outputs": [],
   "source": [
    "def count_paths(r, c):\n",
    "    if r == 1 or c == 1:\n",
    "        return 1\n",
    "    else:\n",
    "        return count_paths(r-1, c) + count_paths(r, c-1)"
   ]
  },
  {
   "cell_type": "code",
   "execution_count": 11,
   "metadata": {},
   "outputs": [
    {
     "data": {
      "text/plain": [
       "28"
      ]
     },
     "execution_count": 11,
     "metadata": {},
     "output_type": "execute_result"
    }
   ],
   "source": [
    "count_paths(3, 7)"
   ]
  },
  {
   "cell_type": "code",
   "execution_count": null,
   "metadata": {},
   "outputs": [],
   "source": []
  }
 ],
 "metadata": {
  "kernelspec": {
   "display_name": ".venv",
   "language": "python",
   "name": "python3"
  },
  "language_info": {
   "codemirror_mode": {
    "name": "ipython",
    "version": 3
   },
   "file_extension": ".py",
   "mimetype": "text/x-python",
   "name": "python",
   "nbconvert_exporter": "python",
   "pygments_lexer": "ipython3",
   "version": "3.11.7"
  }
 },
 "nbformat": 4,
 "nbformat_minor": 2
}
